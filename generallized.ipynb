{
 "cells": [
  {
   "cell_type": "code",
   "execution_count": null,
   "metadata": {},
   "outputs": [],
   "source": [
    "import pandas as pd\n",
    "import numpy as np\n",
    "import matplotlib.pyplot as plt\n",
    "from datetime import datetime\n",
    "from tqdm import tqdm\n",
    "import warnings"
   ]
  },
  {
   "cell_type": "code",
   "execution_count": null,
   "metadata": {},
   "outputs": [],
   "source": [
    "from evaluation_protocol.grubbs import grubbs_score\n",
    "from evaluation_protocol.mape import mape\n",
    "from evaluation_protocol.smape import smape\n",
    "from evaluation_protocol.shape_similarity import dtw\n",
    "from handle_dataset.transform import create_df_with_datetimes\n"
   ]
  },
  {
   "cell_type": "code",
   "execution_count": null,
   "metadata": {},
   "outputs": [],
   "source": [
    "# Models\n",
    "from naive_methods.last_value import predict_last_value\n",
    "from naive_methods.m4_naive import m4_naive\n",
    "from naive_methods.only_mean import mean_naive\n",
    "from naive_methods.random_walk import random_walk\n",
    "\n",
    "from ml_models.lightgbm import lightgbm\n",
    "from ml_models.prophet_model import prophet_model\n",
    "\n",
    "from traditional_models.arima import arima_model\n",
    "from traditional_models.theta_model import theta_model_forecast"
   ]
  },
  {
   "cell_type": "code",
   "execution_count": null,
   "metadata": {},
   "outputs": [],
   "source": [
    "m4_train_dataset_df = pd.read_csv('Dataset/Yearly-train.csv')\n",
    "m4_test_dataset_df = pd.read_csv('Dataset/Yearly-test.csv')\n",
    "info_df = pd.read_csv('../Dataset/M4-info.csv')"
   ]
  },
  {
   "cell_type": "code",
   "execution_count": null,
   "metadata": {},
   "outputs": [],
   "source": [
    "warnings.filterwarnings('ignore')"
   ]
  },
  {
   "cell_type": "code",
   "execution_count": null,
   "metadata": {},
   "outputs": [],
   "source": [
    "info_yearly = info_df[info_df['SP']=='Yearly']"
   ]
  },
  {
   "cell_type": "code",
   "execution_count": null,
   "metadata": {},
   "outputs": [],
   "source": [
    "info_yearly['category'].unique()"
   ]
  },
  {
   "cell_type": "code",
   "execution_count": null,
   "metadata": {},
   "outputs": [],
   "source": [
    "output_file = open(\"m4_general_results.csv\", \"w\")\n",
    "output_file.write(\"model,timeseries,sMAPE,MAPE,ShapeSimilarity,Grubbs\")\n",
    "output_file.write(\"\\n\")"
   ]
  },
  {
   "cell_type": "code",
   "execution_count": null,
   "metadata": {},
   "outputs": [],
   "source": [
    "def create_string(model,index, predicted, real, category):\n",
    "    alpha = 0.05\n",
    "    smape_score = round(smape(real, predicted),2)\n",
    "    mape_score = round(mape(real, predicted),2)\n",
    "    dtw_score = round(dtw(predicted,real),2)\n",
    "    outliers_score = round(grubbs_score(predicted, real, alpha),2)\n",
    "    string_to_return = f\"{model},{index},{smape_score},{mape_score},{dtw_score},{outliers_score},{category}\\n\"\n",
    "\n",
    "    return string_to_return"
   ]
  },
  {
   "cell_type": "code",
   "execution_count": null,
   "metadata": {},
   "outputs": [],
   "source": [
    "def naive_methods(timeseries_index, timeseries_train_df, timeseries_test_df, category):\n",
    "    target_column_name = timeseries_test_df.columns[1]\n",
    "    real = timeseries_test_df[target_column_name]\n",
    "\n",
    "    last_value_forecasts = predict_last_value(timeseries_train_df['target'].tolist(), len(timeseries_test_df))\n",
    "    mean_naive_forecasts = mean_naive(timeseries_train_df['target'].tolist(), len(timeseries_test_df))\n",
    "    random_walk_forecasts = random_walk(timeseries_train_df['target'].tolist(), len(timeseries_test_df))\n",
    "\n",
    "    string_to_return = ''\n",
    "    string_to_return += create_string('Last Value', timeseries_index, last_value_forecasts, real, category)\n",
    "    string_to_return += create_string('Mean Value', timeseries_index, mean_naive_forecasts, real, category)\n",
    "    string_to_return += create_string('Random Walk', timeseries_index, random_walk_forecasts, real, category)\n",
    "\n",
    "    return string_to_return\n",
    "\n",
    "\n",
    "def traditional_methods(timeseries_index, timeseries_train_df, timeseries_test_df, category):\n",
    "    target_column_name = timeseries_test_df.columns[1]\n",
    "    real = timeseries_test_df[target_column_name]\n",
    "    arima_forecasts = arima_model(series=timeseries_train_df['target'].astype(float), forecast_periods=len(timeseries_test_df))\n",
    "    theta_forecasts = theta_model_forecast(series=timeseries_train_df['target'], h=len(timeseries_test_df))\n",
    "\n",
    "    string_to_return = ''\n",
    "    string_to_return += create_string('Arima', timeseries_index, arima_forecasts, real, category)\n",
    "    string_to_return += create_string('Theta', timeseries_index, theta_forecasts, real, category)\n",
    "\n",
    "    return string_to_return\n",
    "\n",
    "\n",
    "def ml_models(timeseries_index, timeseries_train_df, timeseries_test_df, category):\n",
    "    target_column_name = timeseries_test_df.columns[1]\n",
    "    real = timeseries_test_df[target_column_name]\n",
    "    prophet_forecasts = prophet_model(train=timeseries_train_df, test=timeseries_test_df)\n",
    "\n",
    "    string_to_return = ''\n",
    "    string_to_return += create_string('Prophet', timeseries_index, prophet_forecasts, real, category)\n",
    "\n",
    "    return string_to_return"
   ]
  },
  {
   "cell_type": "code",
   "execution_count": null,
   "metadata": {},
   "outputs": [],
   "source": [
    "print(len(info_yearly[info_yearly['category']=='Macro']))\n",
    "print(len(info_yearly[info_yearly['category']=='Micro']))\n",
    "\n",
    "print(len(info_yearly[info_yearly['category']=='Macro']) + len(info_yearly[info_yearly['category']=='Micro']))"
   ]
  },
  {
   "cell_type": "code",
   "execution_count": null,
   "metadata": {},
   "outputs": [],
   "source": [
    "naive_dict = {\"timeseries\":\"last_value, mean_naive, random_walk\"}\n",
    "\n",
    "# for i in tqdm(range(len(info_yearly['category'].unique()))):\n",
    "    \n",
    "index = 0\n",
    "macro_length = len(info_yearly[info_yearly['category']=='Macro'])\n",
    "\n",
    "current_index = macro_length\n",
    "\n",
    "for i in tqdm(range(macro_length)):\n",
    "    timeseries_train_df = create_df_with_datetimes(m4_train_dataset_df, i)\n",
    "    timeseries_test_df = create_df_with_datetimes(m4_test_dataset_df, i)\n",
    "\n",
    "    timeseries_index = m4_test_dataset_df['V1'][i]\n",
    "\n",
    "    output_file.write(naive_methods(timeseries_index, timeseries_train_df, timeseries_test_df))\n",
    "    output_file.write(traditional_methods(timeseries_index, timeseries_train_df, timeseries_test_df))\n",
    "    output_file.write(ml_models(timeseries_index, timeseries_train_df, timeseries_test_df))\n",
    "\n",
    "output_file.close()"
   ]
  },
  {
   "cell_type": "code",
   "execution_count": null,
   "metadata": {},
   "outputs": [],
   "source": [
    "current_index = 0\n",
    "current_index = macro_length+micro_length"
   ]
  },
  {
   "cell_type": "code",
   "execution_count": null,
   "metadata": {},
   "outputs": [],
   "source": [
    "demographic_length = len(info_yearly[info_yearly['category']=='Demographic'])\n",
    "\n",
    "output_file = open(\"m4_general_results.csv\", \"r\")\n",
    "\n",
    "index = len(output_file.readlines())\n",
    "output_file.close()\n",
    "\n",
    "output_file = open(\"m4_general_results.csv\", \"a\")\n",
    "\n",
    "print(index)\n",
    "\n",
    "for i in tqdm(range(current_index, current_index+demographic_length)):\n",
    "    timeseries_train_df = create_df_with_datetimes(m4_train_dataset_df, i)\n",
    "    timeseries_test_df = create_df_with_datetimes(m4_test_dataset_df, i)\n",
    "\n",
    "    timeseries_index = m4_test_dataset_df['V1'][i]\n",
    "    category = \"Demographic\"\n",
    "\n",
    "    output_file.write(naive_methods(timeseries_index, timeseries_train_df, timeseries_test_df, category))\n",
    "    output_file.write(traditional_methods(timeseries_index, timeseries_train_df, timeseries_test_df, category))\n",
    "    output_file.write(ml_models(timeseries_index, timeseries_train_df, timeseries_test_df, category))\n",
    "\n",
    "output_file.close()\n",
    "\n",
    "current_index += demographic_length"
   ]
  },
  {
   "cell_type": "code",
   "execution_count": null,
   "metadata": {},
   "outputs": [],
   "source": [
    "demographic_length = len(info_yearly[info_yearly['category']=='Demographic'])\n",
    "\n",
    "output_file = open(\"m4_general_results.csv\", \"r\")\n",
    "\n",
    "index = len(output_file.readlines())\n",
    "output_file.close()\n",
    "\n",
    "output_file = open(\"m4_general_results.csv\", \"a\")\n",
    "\n",
    "print(index)\n",
    "\n",
    "for i in tqdm(range(current_index, current_index+demographic_length)):\n",
    "    timeseries_train_df = create_df_with_datetimes(m4_train_dataset_df, i)\n",
    "    timeseries_test_df = create_df_with_datetimes(m4_test_dataset_df, i)\n",
    "\n",
    "    timeseries_index = m4_test_dataset_df['V1'][i]\n",
    "    category = \"Demographic\"\n",
    "\n",
    "    output_file.write(naive_methods(timeseries_index, timeseries_train_df, timeseries_test_df, category))\n",
    "    output_file.write(traditional_methods(timeseries_index, timeseries_train_df, timeseries_test_df, category))\n",
    "    output_file.write(ml_models(timeseries_index, timeseries_train_df, timeseries_test_df, category))\n",
    "\n",
    "output_file.close()\n",
    "\n",
    "current_index += demographic_length"
   ]
  },
  {
   "cell_type": "code",
   "execution_count": null,
   "metadata": {},
   "outputs": [],
   "source": [
    "industry_length = len(info_yearly[info_yearly['category']=='Industry'])\n",
    "\n",
    "output_file = open(\"m4_general_results.csv\", \"r\")\n",
    "\n",
    "index = len(output_file.readlines())\n",
    "output_file.close()\n",
    "\n",
    "output_file = open(\"m4_general_results.csv\", \"a\")\n",
    "\n",
    "print(index)\n",
    "\n",
    "for i in tqdm(range(current_index, current_index+industry_length)):\n",
    "    timeseries_train_df = create_df_with_datetimes(m4_train_dataset_df, i)\n",
    "    timeseries_test_df = create_df_with_datetimes(m4_test_dataset_df, i)\n",
    "\n",
    "    timeseries_index = m4_test_dataset_df['V1'][i]\n",
    "    category = \"Industry\"\n",
    "\n",
    "    output_file.write(naive_methods(timeseries_index, timeseries_train_df, timeseries_test_df, category))\n",
    "    output_file.write(traditional_methods(timeseries_index, timeseries_train_df, timeseries_test_df, category))\n",
    "    output_file.write(ml_models(timeseries_index, timeseries_train_df, timeseries_test_df, category))\n",
    "\n",
    "output_file.close()\n",
    "\n",
    "current_index += industry_length"
   ]
  },
  {
   "cell_type": "code",
   "execution_count": null,
   "metadata": {},
   "outputs": [],
   "source": [
    "finance_length = len(info_yearly[info_yearly['category']=='Finance'])\n",
    "\n",
    "output_file = open(\"m4_general_results.csv\", \"r\")\n",
    "\n",
    "index = len(output_file.readlines())\n",
    "output_file.close()\n",
    "\n",
    "output_file = open(\"m4_general_results.csv\", \"a\")\n",
    "\n",
    "print(index)\n",
    "\n",
    "for i in tqdm(range(current_index, current_index+finance_length)):\n",
    "    timeseries_train_df = create_df_with_datetimes(m4_train_dataset_df, i)\n",
    "    timeseries_test_df = create_df_with_datetimes(m4_test_dataset_df, i)\n",
    "\n",
    "    timeseries_index = m4_test_dataset_df['V1'][i]\n",
    "    category = \"Finance\"\n",
    "\n",
    "    output_file.write(naive_methods(timeseries_index, timeseries_train_df, timeseries_test_df, category))\n",
    "    output_file.write(traditional_methods(timeseries_index, timeseries_train_df, timeseries_test_df, category))\n",
    "    output_file.write(ml_models(timeseries_index, timeseries_train_df, timeseries_test_df, category))\n",
    "\n",
    "output_file.close()\n",
    "\n",
    "current_index += finance_length"
   ]
  },
  {
   "cell_type": "code",
   "execution_count": null,
   "metadata": {},
   "outputs": [],
   "source": [
    "other_length = len(info_yearly[info_yearly['category']=='Other'])\n",
    "\n",
    "output_file = open(\"m4_general_results.csv\", \"r\")\n",
    "\n",
    "index = len(output_file.readlines())\n",
    "output_file.close()\n",
    "\n",
    "output_file = open(\"m4_general_results.csv\", \"a\")\n",
    "\n",
    "print(index)\n",
    "\n",
    "for i in tqdm(range(current_index, current_index+other_length)):\n",
    "    timeseries_train_df = create_df_with_datetimes(m4_train_dataset_df, i)\n",
    "    timeseries_test_df = create_df_with_datetimes(m4_test_dataset_df, i)\n",
    "\n",
    "    timeseries_index = m4_test_dataset_df['V1'][i]\n",
    "    category = \"Other\"\n",
    "\n",
    "    output_file.write(naive_methods(timeseries_index, timeseries_train_df, timeseries_test_df, category))\n",
    "    output_file.write(traditional_methods(timeseries_index, timeseries_train_df, timeseries_test_df, category))\n",
    "    output_file.write(ml_models(timeseries_index, timeseries_train_df, timeseries_test_df, category))\n",
    "\n",
    "output_file.close()\n",
    "\n",
    "current_index += other_length "
   ]
  },
  {
   "cell_type": "code",
   "execution_count": null,
   "metadata": {},
   "outputs": [],
   "source": []
  }
 ],
 "metadata": {
  "kernelspec": {
   "display_name": "Python 3",
   "language": "python",
   "name": "python3"
  },
  "language_info": {
   "codemirror_mode": {
    "name": "ipython",
    "version": 3
   },
   "file_extension": ".py",
   "mimetype": "text/x-python",
   "name": "python",
   "nbconvert_exporter": "python",
   "pygments_lexer": "ipython3",
   "version": "3.8.10"
  }
 },
 "nbformat": 4,
 "nbformat_minor": 2
}
