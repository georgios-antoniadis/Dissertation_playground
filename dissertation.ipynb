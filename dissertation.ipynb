{
 "cells": [
  {
   "cell_type": "code",
   "execution_count": 30,
   "metadata": {},
   "outputs": [],
   "source": [
    "import pandas as pd\n",
    "import numpy as np \n",
    "import os\n",
    "from handle_dataset.transform import create_df_with_datetimes\n",
    "from ml_models.lightgbm import lightgbm\n"
   ]
  },
  {
   "cell_type": "code",
   "execution_count": 31,
   "metadata": {},
   "outputs": [],
   "source": [
    "from evaluation_protocol.grubbs import grubbs_score\n",
    "from evaluation_protocol.mape import mape\n",
    "from evaluation_protocol.smape import smape\n",
    "from evaluation_protocol.shape_similarity import dtw"
   ]
  },
  {
   "cell_type": "code",
   "execution_count": 32,
   "metadata": {},
   "outputs": [],
   "source": [
    "#Dataset\n",
    "train_df = pd.read_csv('Dataset/Yearly-train.csv')\n",
    "test_df = pd.read_csv('Dataset/Yearly-test.csv')"
   ]
  },
  {
   "cell_type": "code",
   "execution_count": 33,
   "metadata": {},
   "outputs": [],
   "source": [
    "# Testing the new date thing\n",
    "for counter in range(2):\n",
    "    datetime_df = create_df_with_datetimes(train_df, counter)\n",
    "\n",
    "# The above works!\n",
    "# It will create a new dataframe with two columns 'datetime' and 'target' for as many times as you put in range "
   ]
  },
  {
   "cell_type": "code",
   "execution_count": 34,
   "metadata": {},
   "outputs": [],
   "source": [
    "# Loading just the first timeseries \n",
    "first_timeseries_train = create_df_with_datetimes(train_df, 0)\n",
    "first_timeseries_test = create_df_with_datetimes(test_df, 0)"
   ]
  },
  {
   "cell_type": "code",
   "execution_count": 36,
   "metadata": {},
   "outputs": [
    {
     "name": "stderr",
     "output_type": "stream",
     "text": [
      "/home/george/.local/lib/python3.8/site-packages/statsmodels/tsa/base/tsa_model.py:473: ValueWarning: An unsupported index was provided and will be ignored when e.g. forecasting.\n",
      "  self._init_dates(dates, freq)\n",
      "/home/george/.local/lib/python3.8/site-packages/statsmodels/tsa/base/tsa_model.py:473: ValueWarning: An unsupported index was provided and will be ignored when e.g. forecasting.\n",
      "  self._init_dates(dates, freq)\n",
      "/home/george/.local/lib/python3.8/site-packages/statsmodels/tsa/base/tsa_model.py:473: ValueWarning: An unsupported index was provided and will be ignored when e.g. forecasting.\n",
      "  self._init_dates(dates, freq)\n",
      "/home/george/.local/lib/python3.8/site-packages/statsmodels/tsa/base/tsa_model.py:836: ValueWarning: No supported index is available. Prediction results will be given with an integer index beginning at `start`.\n",
      "  return get_prediction_index(\n",
      "/home/george/.local/lib/python3.8/site-packages/statsmodels/tsa/base/tsa_model.py:836: FutureWarning: No supported index is available. In the next version, calling this method in a model without a supported index will result in an exception.\n",
      "  return get_prediction_index(\n"
     ]
    }
   ],
   "source": [
    "#Traditional models\n",
    "from traditional_models.arima import arima_model\n",
    "from traditional_models.theta_model import theta_model_forecast\n",
    "\n",
    "arima_forecasts = arima_model(series=first_timeseries_train['target'].astype(float), forecast_periods=6)\n",
    "theta_forecasts = theta_model_forecast(series=first_timeseries_train['target'], h=6)"
   ]
  },
  {
   "cell_type": "code",
   "execution_count": 37,
   "metadata": {},
   "outputs": [
    {
     "name": "stderr",
     "output_type": "stream",
     "text": [
      "/home/george/.local/lib/python3.8/site-packages/prophet/forecaster.py:1124: UserWarning: Could not infer format, so each element will be parsed individually, falling back to `dateutil`. To ensure parsing is consistent and as-expected, please specify a format.\n",
      "  self.history_dates = pd.to_datetime(pd.Series(df['ds'].unique(), name='ds')).sort_values()\n",
      "/home/george/.local/lib/python3.8/site-packages/prophet/forecaster.py:271: UserWarning: Could not infer format, so each element will be parsed individually, falling back to `dateutil`. To ensure parsing is consistent and as-expected, please specify a format.\n",
      "  df['ds'] = pd.to_datetime(df['ds'])\n",
      "19:01:27 - cmdstanpy - INFO - Chain [1] start processing\n"
     ]
    },
    {
     "name": "stderr",
     "output_type": "stream",
     "text": [
      "19:01:27 - cmdstanpy - INFO - Chain [1] done processing\n"
     ]
    }
   ],
   "source": [
    "#Machine Learning models\n",
    "from ml_models.prophet_model import prophet_model\n",
    "\n",
    "#LightGBM\n",
    "# for counter in range(3):\n",
    "#     timeseries_df = create_df_with_datetimes(train_df, counter)\n",
    "#     lightgbm(timeseries_df)\n",
    "\n",
    "# Prophet\n",
    "prophet_forecasts = prophet_model(train=first_timeseries_train, test=first_timeseries_test)\n"
   ]
  },
  {
   "cell_type": "code",
   "execution_count": 42,
   "metadata": {},
   "outputs": [
    {
     "name": "stdout",
     "output_type": "stream",
     "text": [
      "Grubbs score for arima is : 0\n",
      "SMAPE score for arima is : 9.64446964462614\n",
      "MAPE score for arima is : 9.121537475242345\n",
      "Shape similarity score for arima is : 4178.792879752498\n",
      "===================================================================================\n",
      "Grubbs score for theta is : 0\n",
      "SMAPE score for theta is : 40.00131259796595\n",
      "MAPE score for theta is : 33.29745638084341\n",
      "Shape similarity score for theta is : 15127.100000000006\n",
      "===================================================================================\n",
      "Grubbs score for prophet is : 0\n",
      "SMAPE score for prophet is : 1.9794528840151553\n",
      "MAPE score for prophet is : 2.0084528351210076\n",
      "Shape similarity score for prophet is : 780.8762437136947\n",
      "===================================================================================\n",
      "\n",
      "\n",
      "\n",
      "\n",
      "Model\t\t|\tMAPE\t|\tsMAPE\t|\tGrubbs\t|\tShape similarity\t|\n",
      "--------------------------------------------------------------------------------------------------\n",
      "arima\t\t|\t9.12\t|\t9.64\t|\t0\t|\t4179\t\t\t|\n",
      "--------------------------------------------------------------------------------------------------\n",
      "theta\t\t|\t33.3\t|\t40.0\t|\t0\t|\t15127\t\t\t|\n",
      "--------------------------------------------------------------------------------------------------\n",
      "prophet\t\t|\t2.01\t|\t1.98\t|\t0\t|\t781\t\t\t|\n",
      "--------------------------------------------------------------------------------------------------\n",
      "\n"
     ]
    }
   ],
   "source": [
    "# Evaluation Protocol\n",
    "\n",
    "alpha = 0.05\n",
    "predicted_dictionary = {\"arima\": arima_forecasts,\n",
    "                        \"theta\": theta_forecasts,\n",
    "                        \"prophet\": prophet_forecasts}\n",
    "\n",
    "\n",
    "# For some reason the column names change to ds and y and cannot change back....\n",
    "real = first_timeseries_test['y']\n",
    "\n",
    "for key in predicted_dictionary:\n",
    "    predicted = predicted_dictionary[key]\n",
    "    grubbs_test_score = grubbs_score(predicted, real, alpha)\n",
    "    smape_score = smape(real.tolist(), predicted.tolist())\n",
    "    shape_similarity_score = dtw(predicted, real)\n",
    "    mape_score = mape(real.tolist(), predicted.tolist())\n",
    "\n",
    "    print(f\"Grubbs score for {key} is : {grubbs_test_score}\")\n",
    "    print(f\"SMAPE score for {key} is : {smape_score}\")\n",
    "    print(f\"MAPE score for {key} is : {mape_score}\")\n",
    "    print(f\"Shape similarity score for {key} is : {shape_similarity_score}\")\n",
    "    print(\"===================================================================================\")\n",
    "\n",
    "print('\\n')\n",
    "print('\\n')\n",
    "\n",
    "# Printing the new string:\n",
    "scores_dict = {\n",
    "    'arima': [],\n",
    "    'theta': [],\n",
    "    'prophet': []\n",
    "}\n",
    "\n",
    "for key in predicted_dictionary:\n",
    "    predicted = predicted_dictionary[key]\n",
    "    grubbs_test_score = grubbs_score(predicted, real, alpha)\n",
    "    smape_score = smape(real.tolist(), predicted.tolist())\n",
    "    shape_similarity_score = dtw(predicted, real)\n",
    "    mape_score = mape(real.tolist(), predicted.tolist())\n",
    "\n",
    "    # MAPE | sMAPE | Grubbs | tShape similarity\n",
    "    scores_dict[key].append(round(mape_score,2))\n",
    "    scores_dict[key].append(round(smape_score,2))\n",
    "    scores_dict[key].append(round(grubbs_test_score))\n",
    "    scores_dict[key].append(round(shape_similarity_score))\n",
    "\n",
    "from evaluation_protocol.evaluation_protocol_string import eval_string\n",
    "\n",
    "evaluation_string = eval_string(scores_dict)\n",
    "print(evaluation_string)"
   ]
  },
  {
   "cell_type": "code",
   "execution_count": null,
   "metadata": {},
   "outputs": [],
   "source": []
  }
 ],
 "metadata": {
  "kernelspec": {
   "display_name": "Python 3",
   "language": "python",
   "name": "python3"
  },
  "language_info": {
   "codemirror_mode": {
    "name": "ipython",
    "version": 3
   },
   "file_extension": ".py",
   "mimetype": "text/x-python",
   "name": "python",
   "nbconvert_exporter": "python",
   "pygments_lexer": "ipython3",
   "version": "3.8.10"
  },
  "orig_nbformat": 4
 },
 "nbformat": 4,
 "nbformat_minor": 2
}
