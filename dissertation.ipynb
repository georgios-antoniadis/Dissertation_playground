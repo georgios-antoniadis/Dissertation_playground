{
 "cells": [
  {
   "cell_type": "code",
   "execution_count": null,
   "metadata": {},
   "outputs": [],
   "source": [
    "import pandas as pd\n",
    "import numpy as np \n",
    "import os\n",
    "from handle_dataset.transform import create_df_with_datetimes\n",
    "from ml_models.lightgbm import lightgbm\n"
   ]
  },
  {
   "cell_type": "code",
   "execution_count": null,
   "metadata": {},
   "outputs": [],
   "source": [
    "from evaluation_protocol.grubbs import grubbs_score\n",
    "from evaluation_protocol.mape import mape\n",
    "from evaluation_protocol.smape import smape\n",
    "from evaluation_protocol.shape_similarity import dtw"
   ]
  },
  {
   "cell_type": "code",
   "execution_count": null,
   "metadata": {},
   "outputs": [],
   "source": [
    "from naive_methods.last_value import predict_last_value\n",
    "from naive_methods.only_mean import mean_naive\n",
    "from naive_methods.random_walk import random_walk"
   ]
  },
  {
   "cell_type": "code",
   "execution_count": null,
   "metadata": {},
   "outputs": [],
   "source": [
    "#Dataset\n",
    "train_df = pd.read_csv('Dataset/Yearly-train.csv')\n",
    "test_df = pd.read_csv('Dataset/Yearly-test.csv')"
   ]
  },
  {
   "cell_type": "code",
   "execution_count": null,
   "metadata": {},
   "outputs": [],
   "source": [
    "# Testing the new date thing\n",
    "for counter in range(2):\n",
    "    datetime_df = create_df_with_datetimes(train_df, counter)\n",
    "\n",
    "# The above works!\n",
    "# It will create a new dataframe with two columns 'datetime' and 'target' for as many times as you put in range "
   ]
  },
  {
   "cell_type": "code",
   "execution_count": null,
   "metadata": {},
   "outputs": [],
   "source": [
    "# Loading just the first timeseries \n",
    "first_timeseries_train = create_df_with_datetimes(train_df, 0)\n",
    "first_timeseries_test = create_df_with_datetimes(test_df, 0)"
   ]
  },
  {
   "cell_type": "code",
   "execution_count": null,
   "metadata": {},
   "outputs": [],
   "source": [
    "# Naive methods\n",
    "last_value_forecasts = predict_last_value(first_timeseries_train['target'].tolist(), len(first_timeseries_test))\n",
    "mean_naive_forecasts = mean_naive(first_timeseries_train['target'].tolist(), len(first_timeseries_test))\n",
    "random_walk_forecasts = random_walk(first_timeseries_train['target'].tolist(), len(first_timeseries_test))"
   ]
  },
  {
   "cell_type": "code",
   "execution_count": null,
   "metadata": {},
   "outputs": [],
   "source": [
    "# New metrics:\n",
    "\n",
    "from evaluation_protocol.performance_metrics import rmse, nme, mae, mse\n",
    "\n",
    "real = first_timeseries_test['target']\n",
    "\n",
    "# def rmse(predicted, real):\n",
    "#     predicted = np.array(predicted)\n",
    "#     real = np.array(real)\n",
    "#     return np.sqrt(((predicted-real)**2).mean())\n",
    "\n",
    "# def nme(predicted, real):\n",
    "#     predicted = np.array(predicted)\n",
    "#     real = np.array(real)\n",
    "#     absolute_percentage_errors = np.abs((real - predicted) / real)\n",
    "#     return absolute_percentage_errors.mean()\n",
    "\n",
    "# def mae(predicted, real):\n",
    "#     predicted = np.array(predicted)\n",
    "#     real = np.array(real)\n",
    "#     return np.abs(predicted - real).mean()\n",
    "\n",
    "# def mse(predicted, real):\n",
    "#     predicted = np.array(predicted)\n",
    "#     real = np.array(real)\n",
    "#     return ((predicted - real) ** 2).mean()\n",
    "\n",
    "print(f\"RMSE \\n\\\n",
    "    Last value: {round(rmse(last_value_forecasts, real),2)}\\n\\\n",
    "    Mean: {round(rmse(mean_naive_forecasts, real),2)}\\n\\\n",
    "    Random Walk: {round(rmse(random_walk_forecasts, real),2)}\")\n",
    "\n",
    "print(f\"NME \\n\\\n",
    "    Last value: {round(nme(last_value_forecasts, real),2)}\\n\\\n",
    "    Mean: {round(nme(mean_naive_forecasts, real),2)}\\n\\\n",
    "    Random Walk: {round(nme(random_walk_forecasts, real),2)}\")\n",
    "\n",
    "print(f\"MAE \\n\\\n",
    "    Last value: {round(mae(last_value_forecasts, real),2)}\\n\\\n",
    "    Mean: {round(mae(mean_naive_forecasts, real),2)}\\n\\\n",
    "    Random Walk: {round(mae(random_walk_forecasts, real),2)}\")\n",
    "\n",
    "print(f\"MSE \\n\\\n",
    "    Last value: {round(mse(last_value_forecasts, real),2)}\\n\\\n",
    "    Mean: {round(mse(mean_naive_forecasts, real),2)}\\n\\\n",
    "    Random Walk: {round(mse(random_walk_forecasts, real),2)}\")\n"
   ]
  },
  {
   "cell_type": "code",
   "execution_count": null,
   "metadata": {},
   "outputs": [],
   "source": [
    "#Traditional models\n",
    "from traditional_models.arima import arima_model\n",
    "from traditional_models.theta_model import theta_model_forecast\n",
    "from traditional_models.ets import ets_method\n",
    "\n",
    "arima_forecasts = arima_model(series=first_timeseries_train['target'].astype(float), forecast_periods=6)\n",
    "theta_forecasts = theta_model_forecast(series=first_timeseries_train['target'], h=6)\n",
    "ets_forecasts_2 = ets_method(train=first_timeseries_train, test=first_timeseries_test, periods=2)\n",
    "ets_forecasts_6 = ets_method(train=first_timeseries_train, test=first_timeseries_test, periods=6)\n",
    "ets_forecasts_12 = ets_method(train=first_timeseries_train, test=first_timeseries_test, periods=12)"
   ]
  },
  {
   "cell_type": "code",
   "execution_count": null,
   "metadata": {},
   "outputs": [],
   "source": [
    "#Machine Learning models\n",
    "from ml_models.prophet_model import prophet_model\n",
    "\n",
    "#LightGBM\n",
    "# for counter in range(3):\n",
    "#     timeseries_df = create_df_with_datetimes(train_df, counter)\n",
    "#     lightgbm(timeseries_df)\n",
    "\n",
    "# Prophet\n",
    "prophet_forecasts = prophet_model(train=first_timeseries_train, test=first_timeseries_test)\n"
   ]
  },
  {
   "cell_type": "code",
   "execution_count": null,
   "metadata": {},
   "outputs": [],
   "source": [
    "# Evaluation Protocol\n",
    "\n",
    "alpha = 0.05\n",
    "predicted_dictionary = {\"arima\": arima_forecasts,\n",
    "                        \"theta\": theta_forecasts,\n",
    "                        \"prophet\": prophet_forecasts,\n",
    "                        \"ets_2\": ets_forecasts_2,\n",
    "                        \"ets_6\": ets_forecasts_6,\n",
    "                        \"ets_12\": ets_forecasts_12}\n",
    "\n",
    "\n",
    "# For some reason the column names change to ds and y and cannot change back....\n",
    "real = first_timeseries_test['y']\n",
    "\n",
    "# for key in predicted_dictionary:\n",
    "#     predicted = predicted_dictionary[key]\n",
    "#     grubbs_test_score = grubbs_score(predicted, real, alpha)\n",
    "#     smape_score = smape(real, predicted)\n",
    "#     shape_similarity_score = dtw(predicted, real)\n",
    "#     mape_score = mape(real, predicted)\n",
    "\n",
    "#     print(f\"Grubbs score for {key} is : {grubbs_test_score}\")\n",
    "#     print(f\"SMAPE score for {key} is : {smape_score}\")\n",
    "#     print(f\"MAPE score for {key} is : {mape_score}\")\n",
    "#     print(f\"Shape similarity score for {key} is : {shape_similarity_score}\")\n",
    "#     print(\"===================================================================================\")\n",
    "\n",
    "# print('\\n')\n",
    "# print('\\n')\n",
    "\n",
    "# Printing the new string:\n",
    "scores_dict = {\n",
    "    'arima': [],\n",
    "    'theta': [],\n",
    "    'prophet': [],\n",
    "    'ets_2': [],\n",
    "    'ets_6': [],\n",
    "    'ets_12': []\n",
    "}\n",
    "\n",
    "for key in predicted_dictionary:\n",
    "    predicted = predicted_dictionary[key]\n",
    "    grubbs_test_score = grubbs_score(predicted, real, alpha)\n",
    "    smape_score = smape(real, predicted)\n",
    "    shape_similarity_score = dtw(predicted, real)\n",
    "    mape_score = mape(real, predicted)\n",
    "\n",
    "    # MAPE | sMAPE | Grubbs | tShape similarity\n",
    "    scores_dict[key].append(round(mape_score,2))\n",
    "    scores_dict[key].append(round(smape_score,2))\n",
    "    scores_dict[key].append(round(grubbs_test_score))\n",
    "    scores_dict[key].append(round(shape_similarity_score))\n",
    "\n",
    "from evaluation_protocol.evaluation_protocol_string import eval_string\n",
    "\n",
    "evaluation_string = eval_string(scores_dict)\n",
    "print(evaluation_string)"
   ]
  },
  {
   "cell_type": "code",
   "execution_count": null,
   "metadata": {},
   "outputs": [],
   "source": []
  }
 ],
 "metadata": {
  "kernelspec": {
   "display_name": "Python 3",
   "language": "python",
   "name": "python3"
  },
  "language_info": {
   "codemirror_mode": {
    "name": "ipython",
    "version": 3
   },
   "file_extension": ".py",
   "mimetype": "text/x-python",
   "name": "python",
   "nbconvert_exporter": "python",
   "pygments_lexer": "ipython3",
   "version": "3.8.10"
  },
  "orig_nbformat": 4
 },
 "nbformat": 4,
 "nbformat_minor": 2
}
