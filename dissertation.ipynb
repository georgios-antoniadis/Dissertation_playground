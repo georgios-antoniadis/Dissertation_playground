{
 "cells": [
  {
   "cell_type": "code",
   "execution_count": 1,
   "metadata": {},
   "outputs": [],
   "source": [
    "import pandas as pd\n",
    "import numpy as np \n",
    "import os\n",
    "from handle_dataset.transform import create_df_with_datetimes\n",
    "from ml_models.lightgbm import lightgbm"
   ]
  },
  {
   "cell_type": "code",
   "execution_count": 2,
   "metadata": {},
   "outputs": [],
   "source": [
    "from evaluation_protocol.grubbs import grubbs_score\n",
    "from evaluation_protocol.mape import mape\n",
    "from evaluation_protocol.smape import smape\n",
    "from evaluation_protocol.shape_similarity import dtw"
   ]
  },
  {
   "cell_type": "code",
   "execution_count": 3,
   "metadata": {},
   "outputs": [],
   "source": [
    "#Dataset\n",
    "train_df = pd.read_csv('Dataset/Yearly-train.csv')\n",
    "test_df = pd.read_csv('Dataset/Yearly-test.csv')"
   ]
  },
  {
   "cell_type": "code",
   "execution_count": 4,
   "metadata": {},
   "outputs": [],
   "source": [
    "# Testing the new date thing\n",
    "for counter in range(2):\n",
    "    datetime_df = create_df_with_datetimes(train_df, counter)\n",
    "\n",
    "# The above works!\n",
    "# It will create a new dataframe with two columns 'datetime' and 'target' for as many times as you put in range "
   ]
  },
  {
   "cell_type": "code",
   "execution_count": 5,
   "metadata": {},
   "outputs": [],
   "source": [
    "first_timeseries_train = create_df_with_datetimes(train_df, 0)\n",
    "first_timeseries_test = create_df_with_datetimes(test_df, 0)"
   ]
  },
  {
   "cell_type": "code",
   "execution_count": 6,
   "metadata": {},
   "outputs": [
    {
     "data": {
      "text/plain": [
       "1     5172.1\n",
       "2     5133.5\n",
       "3     5186.9\n",
       "4     5084.6\n",
       "5     5182.0\n",
       "6     5414.3\n",
       "7     5576.2\n",
       "8     5752.9\n",
       "9     5955.2\n",
       "10    6087.8\n",
       "11    6238.9\n",
       "12    6317.2\n",
       "13    6262.7\n",
       "14    6361.0\n",
       "15    6427.4\n",
       "16    6654.9\n",
       "17    6835.4\n",
       "18    6925.5\n",
       "19    7073.5\n",
       "20    7144.0\n",
       "21    7230.6\n",
       "22    7349.6\n",
       "23    7339.2\n",
       "24    7250.8\n",
       "25    7294.6\n",
       "26    7393.9\n",
       "27    7560.9\n",
       "28    7651.4\n",
       "29    7587.3\n",
       "30    7530.5\n",
       "31    7261.1\n",
       "Name: target, dtype: float64"
      ]
     },
     "execution_count": 6,
     "metadata": {},
     "output_type": "execute_result"
    }
   ],
   "source": [
    "first_timeseries_train['target'].astype(float)"
   ]
  },
  {
   "cell_type": "code",
   "execution_count": null,
   "metadata": {},
   "outputs": [],
   "source": [
    "#Traditional models\n",
    "from traditional_models.arima import arima_model\n",
    "from traditional_models.theta_model import theta_model_forecast\n",
    "\n",
    "arima_forecasts = arima_model(series=first_timeseries_train['target'].astype(float), forecast_periods=6)\n",
    "theta_forecasts = theta_model_forecast(series=first_timeseries_train['target'], h=6)"
   ]
  },
  {
   "cell_type": "code",
   "execution_count": null,
   "metadata": {},
   "outputs": [],
   "source": [
    "#Machine Learning models\n",
    "\n",
    "for counter in range(3):\n",
    "    timeseries_df = create_df_with_datetimes(train_df, counter)\n",
    "    lightgbm(timeseries_df)"
   ]
  },
  {
   "cell_type": "code",
   "execution_count": 16,
   "metadata": {},
   "outputs": [
    {
     "name": "stdout",
     "output_type": "stream",
     "text": [
      "No outliers detected.\n",
      "No outliers detected.\n",
      "Grubbs score for arima is : 0\n",
      "SMAPE score for arima is : 9.64446964462614\n",
      "MAPE score for arima is : 9.121537475242345\n",
      "Shape similarity score for arima is : 4178.792879752498\n",
      "===================================================================================\n",
      "No outliers detected.\n",
      "No outliers detected.\n",
      "Grubbs score for theta is : 0\n",
      "SMAPE score for theta is : 40.00131259796595\n",
      "MAPE score for theta is : 33.29745638084341\n",
      "Shape similarity score for theta is : 15127.100000000006\n",
      "===================================================================================\n"
     ]
    }
   ],
   "source": [
    "# Evaluation Protocol\n",
    "\n",
    "alpha = 0.05\n",
    "predicted_dictionary = {\"arima\": arima_forecasts,\n",
    "                        \"theta\": theta_forecasts}\n",
    "\n",
    "real = first_timeseries_test['target']\n",
    "for key in predicted_dictionary:\n",
    "    predicted = predicted_dictionary[key]\n",
    "    grubbs_test_score = grubbs_score(predicted, real, alpha)\n",
    "    smape_score = smape(real.tolist(), predicted.tolist())\n",
    "    shape_similarity_score = dtw(predicted, real)\n",
    "    mape_score = mape(real.tolist(), predicted.tolist())\n",
    "\n",
    "    print(f\"Grubbs score for {key} is : {grubbs_test_score}\")\n",
    "    print(f\"SMAPE score for {key} is : {smape_score}\")\n",
    "    print(f\"MAPE score for {key} is : {mape_score}\")\n",
    "    print(f\"Shape similarity score for {key} is : {shape_similarity_score}\")\n",
    "    print(\"===================================================================================\")"
   ]
  },
  {
   "cell_type": "code",
   "execution_count": null,
   "metadata": {},
   "outputs": [],
   "source": []
  }
 ],
 "metadata": {
  "kernelspec": {
   "display_name": "Python 3",
   "language": "python",
   "name": "python3"
  },
  "language_info": {
   "codemirror_mode": {
    "name": "ipython",
    "version": 3
   },
   "file_extension": ".py",
   "mimetype": "text/x-python",
   "name": "python",
   "nbconvert_exporter": "python",
   "pygments_lexer": "ipython3",
   "version": "3.8.10"
  },
  "orig_nbformat": 4
 },
 "nbformat": 4,
 "nbformat_minor": 2
}
