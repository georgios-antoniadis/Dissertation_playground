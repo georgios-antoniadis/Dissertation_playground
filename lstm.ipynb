{
 "cells": [
  {
   "cell_type": "code",
   "execution_count": 1,
   "metadata": {},
   "outputs": [],
   "source": [
    "# Code from\n",
    "# https://machinelearningmastery.com/time-series-prediction-lstm-recurrent-neural-networks-python-keras/\n",
    "# https://towardsdatascience.com/predicting-stock-prices-using-a-keras-lstm-model-4225457f0233\n"
   ]
  },
  {
   "cell_type": "code",
   "execution_count": 1,
   "metadata": {},
   "outputs": [
    {
     "name": "stderr",
     "output_type": "stream",
     "text": [
      "2023-10-09 20:17:56.461912: I tensorflow/tsl/cuda/cudart_stub.cc:28] Could not find cuda drivers on your machine, GPU will not be used.\n",
      "2023-10-09 20:17:56.509160: I tensorflow/tsl/cuda/cudart_stub.cc:28] Could not find cuda drivers on your machine, GPU will not be used.\n",
      "2023-10-09 20:17:56.510376: I tensorflow/core/platform/cpu_feature_guard.cc:182] This TensorFlow binary is optimized to use available CPU instructions in performance-critical operations.\n",
      "To enable the following instructions: AVX2 FMA, in other operations, rebuild TensorFlow with the appropriate compiler flags.\n",
      "2023-10-09 20:17:57.358089: W tensorflow/compiler/tf2tensorrt/utils/py_utils.cc:38] TF-TRT Warning: Could not find TensorRT\n",
      "/home/george/.local/lib/python3.8/site-packages/scipy/__init__.py:146: UserWarning: A NumPy version >=1.16.5 and <1.23.0 is required for this version of SciPy (detected version 1.24.3\n",
      "  warnings.warn(f\"A NumPy version >={np_minversion} and <{np_maxversion}\"\n"
     ]
    }
   ],
   "source": [
    "\n",
    "import numpy as np\n",
    "import matplotlib.pyplot as plt\n",
    "import pandas as pd\n",
    "import tensorflow as tf\n",
    "from tensorflow.keras.models import Sequential\n",
    "from tensorflow.keras.layers import Dense\n",
    "from tensorflow.keras.layers import LSTM\n",
    "from sklearn.preprocessing import MinMaxScaler\n",
    "from sklearn.metrics import mean_squared_error\n"
   ]
  },
  {
   "cell_type": "code",
   "execution_count": 3,
   "metadata": {},
   "outputs": [],
   "source": [
    "# fix random seed for reproducibility\n",
    "tf.random.set_seed(7)"
   ]
  },
  {
   "cell_type": "code",
   "execution_count": 13,
   "metadata": {},
   "outputs": [],
   "source": [
    "\n",
    "# load the dataset\n",
    "dataframe = pd.read_csv('first_timeseries_train.csv', usecols=[1], engine='python')\n",
    "dataset = dataframe.values\n",
    "dataset = dataset.astype('float32')"
   ]
  },
  {
   "cell_type": "code",
   "execution_count": 14,
   "metadata": {},
   "outputs": [],
   "source": [
    "\n",
    "# normalize the dataset\n",
    "scaler = MinMaxScaler(feature_range=(0, 1))\n",
    "dataset = scaler.fit_transform(dataset)"
   ]
  },
  {
   "cell_type": "code",
   "execution_count": 15,
   "metadata": {},
   "outputs": [
    {
     "name": "stdout",
     "output_type": "stream",
     "text": [
      "20 11\n"
     ]
    }
   ],
   "source": [
    "# split into train and test sets\n",
    "train_size = int(len(dataset) * 0.67)\n",
    "test_size = len(dataset) - train_size\n",
    "train, test = dataset[0:train_size,:], dataset[train_size:len(dataset),:]\n",
    "print(len(train), len(test))"
   ]
  },
  {
   "cell_type": "code",
   "execution_count": 2,
   "metadata": {},
   "outputs": [],
   "source": [
    "# convert an array of values into a dataset matrix\n",
    "def create_dataset(dataset, look_back=1):\n",
    "    dataX, dataY = [], []\n",
    "    for i in range(len(dataset)-look_back-1):\n",
    "        a = dataset[i:(i+look_back), 0]\n",
    "        dataX.append(a)\n",
    "        dataY.append(dataset[i + look_back, 0])\n",
    "    return np.array(dataX), np.array(dataY)"
   ]
  },
  {
   "cell_type": "code",
   "execution_count": 8,
   "metadata": {},
   "outputs": [],
   "source": [
    "# reshape into X=t and Y=t+1\n",
    "look_back = 1\n",
    "trainX, trainY = create_dataset(train, look_back)\n",
    "testX, testY = create_dataset(test, look_back)\n",
    "\n",
    "\n",
    "# Loading the test data from M4\n",
    "my_test = pd.read_csv('first_timeseries_test.csv', usecols=[1], engine='python')\n",
    "my_test = my_test.values\n",
    "my_test = my_test.astype('float32')\n",
    "# normalize the dataset\n",
    "scaler = MinMaxScaler(feature_range=(0, 1))\n",
    "my_test = scaler.fit_transform(my_test)\n",
    "validate_x, validate_y = create_dataset(my_test, look_back)\n",
    "\n",
    "# validate_train, validate_test = create_dataset(my_test_values, look_back)\n",
    "validate_x = np.reshape(validate_x, (validate_x.shape[0], 1, validate_x.shape[1]))"
   ]
  },
  {
   "cell_type": "code",
   "execution_count": 9,
   "metadata": {},
   "outputs": [
    {
     "data": {
      "text/plain": [
       "(4, 1, 1)"
      ]
     },
     "execution_count": 9,
     "metadata": {},
     "output_type": "execute_result"
    }
   ],
   "source": [
    "validate_x.shape"
   ]
  },
  {
   "cell_type": "code",
   "execution_count": 10,
   "metadata": {},
   "outputs": [
    {
     "data": {
      "text/plain": [
       "(4,)"
      ]
     },
     "execution_count": 10,
     "metadata": {},
     "output_type": "execute_result"
    }
   ],
   "source": [
    "validate_y.shape"
   ]
  },
  {
   "cell_type": "code",
   "execution_count": 11,
   "metadata": {},
   "outputs": [],
   "source": [
    "# reshape input to be [samples, time steps, features]\n",
    "trainX = np.reshape(trainX, (trainX.shape[0], 1, trainX.shape[1]))\n",
    "testX = np.reshape(testX, (testX.shape[0], 1, testX.shape[1]))"
   ]
  },
  {
   "cell_type": "code",
   "execution_count": 12,
   "metadata": {},
   "outputs": [
    {
     "name": "stderr",
     "output_type": "stream",
     "text": [
      "2023-10-08 14:11:27.965731: I tensorflow/compiler/xla/stream_executor/cuda/cuda_gpu_executor.cc:995] successful NUMA node read from SysFS had negative value (-1), but there must be at least one NUMA node, so returning NUMA node zero. See more at https://github.com/torvalds/linux/blob/v6.0/Documentation/ABI/testing/sysfs-bus-pci#L344-L355\n",
      "2023-10-08 14:11:27.968191: W tensorflow/core/common_runtime/gpu/gpu_device.cc:1960] Cannot dlopen some GPU libraries. Please make sure the missing libraries mentioned above are installed properly if you would like to use GPU. Follow the guide at https://www.tensorflow.org/install/gpu for how to download and setup the required libraries for your platform.\n",
      "Skipping registering GPU devices...\n"
     ]
    },
    {
     "name": "stdout",
     "output_type": "stream",
     "text": [
      "Epoch 1/100\n",
      "18/18 - 4s - loss: 0.1761 - 4s/epoch - 213ms/step\n",
      "Epoch 2/100\n",
      "18/18 - 0s - loss: 0.1616 - 73ms/epoch - 4ms/step\n",
      "Epoch 3/100\n",
      "18/18 - 0s - loss: 0.1482 - 75ms/epoch - 4ms/step\n",
      "Epoch 4/100\n",
      "18/18 - 0s - loss: 0.1354 - 74ms/epoch - 4ms/step\n",
      "Epoch 5/100\n",
      "18/18 - 0s - loss: 0.1250 - 73ms/epoch - 4ms/step\n",
      "Epoch 6/100\n",
      "18/18 - 0s - loss: 0.1136 - 73ms/epoch - 4ms/step\n",
      "Epoch 7/100\n",
      "18/18 - 0s - loss: 0.1028 - 70ms/epoch - 4ms/step\n",
      "Epoch 8/100\n",
      "18/18 - 0s - loss: 0.0943 - 73ms/epoch - 4ms/step\n",
      "Epoch 9/100\n",
      "18/18 - 0s - loss: 0.0850 - 102ms/epoch - 6ms/step\n",
      "Epoch 10/100\n",
      "18/18 - 0s - loss: 0.0779 - 118ms/epoch - 7ms/step\n",
      "Epoch 11/100\n",
      "18/18 - 0s - loss: 0.0705 - 115ms/epoch - 6ms/step\n",
      "Epoch 12/100\n",
      "18/18 - 0s - loss: 0.0643 - 75ms/epoch - 4ms/step\n",
      "Epoch 13/100\n",
      "18/18 - 0s - loss: 0.0592 - 76ms/epoch - 4ms/step\n",
      "Epoch 14/100\n",
      "18/18 - 0s - loss: 0.0539 - 75ms/epoch - 4ms/step\n",
      "Epoch 15/100\n",
      "18/18 - 0s - loss: 0.0499 - 79ms/epoch - 4ms/step\n",
      "Epoch 16/100\n",
      "18/18 - 0s - loss: 0.0470 - 77ms/epoch - 4ms/step\n",
      "Epoch 17/100\n",
      "18/18 - 0s - loss: 0.0436 - 69ms/epoch - 4ms/step\n",
      "Epoch 18/100\n",
      "18/18 - 0s - loss: 0.0412 - 72ms/epoch - 4ms/step\n",
      "Epoch 19/100\n",
      "18/18 - 0s - loss: 0.0394 - 73ms/epoch - 4ms/step\n",
      "Epoch 20/100\n",
      "18/18 - 0s - loss: 0.0374 - 74ms/epoch - 4ms/step\n",
      "Epoch 21/100\n",
      "18/18 - 0s - loss: 0.0363 - 73ms/epoch - 4ms/step\n",
      "Epoch 22/100\n",
      "18/18 - 0s - loss: 0.0347 - 68ms/epoch - 4ms/step\n",
      "Epoch 23/100\n",
      "18/18 - 0s - loss: 0.0337 - 75ms/epoch - 4ms/step\n",
      "Epoch 24/100\n",
      "18/18 - 0s - loss: 0.0325 - 69ms/epoch - 4ms/step\n",
      "Epoch 25/100\n",
      "18/18 - 0s - loss: 0.0315 - 94ms/epoch - 5ms/step\n",
      "Epoch 26/100\n",
      "18/18 - 0s - loss: 0.0306 - 69ms/epoch - 4ms/step\n",
      "Epoch 27/100\n",
      "18/18 - 0s - loss: 0.0297 - 71ms/epoch - 4ms/step\n",
      "Epoch 28/100\n",
      "18/18 - 0s - loss: 0.0291 - 68ms/epoch - 4ms/step\n",
      "Epoch 29/100\n",
      "18/18 - 0s - loss: 0.0281 - 75ms/epoch - 4ms/step\n",
      "Epoch 30/100\n",
      "18/18 - 0s - loss: 0.0271 - 72ms/epoch - 4ms/step\n",
      "Epoch 31/100\n",
      "18/18 - 0s - loss: 0.0262 - 70ms/epoch - 4ms/step\n",
      "Epoch 32/100\n",
      "18/18 - 0s - loss: 0.0254 - 68ms/epoch - 4ms/step\n",
      "Epoch 33/100\n",
      "18/18 - 0s - loss: 0.0245 - 67ms/epoch - 4ms/step\n",
      "Epoch 34/100\n",
      "18/18 - 0s - loss: 0.0238 - 69ms/epoch - 4ms/step\n",
      "Epoch 35/100\n",
      "18/18 - 0s - loss: 0.0228 - 99ms/epoch - 5ms/step\n",
      "Epoch 36/100\n",
      "18/18 - 0s - loss: 0.0219 - 105ms/epoch - 6ms/step\n",
      "Epoch 37/100\n",
      "18/18 - 0s - loss: 0.0212 - 98ms/epoch - 5ms/step\n",
      "Epoch 38/100\n",
      "18/18 - 0s - loss: 0.0202 - 102ms/epoch - 6ms/step\n",
      "Epoch 39/100\n",
      "18/18 - 0s - loss: 0.0194 - 98ms/epoch - 5ms/step\n",
      "Epoch 40/100\n",
      "18/18 - 0s - loss: 0.0185 - 102ms/epoch - 6ms/step\n",
      "Epoch 41/100\n",
      "18/18 - 0s - loss: 0.0177 - 98ms/epoch - 5ms/step\n",
      "Epoch 42/100\n",
      "18/18 - 0s - loss: 0.0168 - 102ms/epoch - 6ms/step\n",
      "Epoch 43/100\n",
      "18/18 - 0s - loss: 0.0160 - 106ms/epoch - 6ms/step\n",
      "Epoch 44/100\n",
      "18/18 - 0s - loss: 0.0152 - 85ms/epoch - 5ms/step\n",
      "Epoch 45/100\n",
      "18/18 - 0s - loss: 0.0143 - 74ms/epoch - 4ms/step\n",
      "Epoch 46/100\n",
      "18/18 - 0s - loss: 0.0136 - 74ms/epoch - 4ms/step\n",
      "Epoch 47/100\n",
      "18/18 - 0s - loss: 0.0128 - 75ms/epoch - 4ms/step\n",
      "Epoch 48/100\n",
      "18/18 - 0s - loss: 0.0121 - 71ms/epoch - 4ms/step\n",
      "Epoch 49/100\n",
      "18/18 - 0s - loss: 0.0114 - 71ms/epoch - 4ms/step\n",
      "Epoch 50/100\n",
      "18/18 - 0s - loss: 0.0107 - 70ms/epoch - 4ms/step\n",
      "Epoch 51/100\n",
      "18/18 - 0s - loss: 0.0100 - 77ms/epoch - 4ms/step\n",
      "Epoch 52/100\n",
      "18/18 - 0s - loss: 0.0093 - 78ms/epoch - 4ms/step\n",
      "Epoch 53/100\n",
      "18/18 - 0s - loss: 0.0087 - 66ms/epoch - 4ms/step\n",
      "Epoch 54/100\n",
      "18/18 - 0s - loss: 0.0081 - 74ms/epoch - 4ms/step\n",
      "Epoch 55/100\n",
      "18/18 - 0s - loss: 0.0075 - 75ms/epoch - 4ms/step\n",
      "Epoch 56/100\n",
      "18/18 - 0s - loss: 0.0070 - 68ms/epoch - 4ms/step\n",
      "Epoch 57/100\n",
      "18/18 - 0s - loss: 0.0064 - 68ms/epoch - 4ms/step\n",
      "Epoch 58/100\n",
      "18/18 - 0s - loss: 0.0060 - 71ms/epoch - 4ms/step\n",
      "Epoch 59/100\n",
      "18/18 - 0s - loss: 0.0055 - 71ms/epoch - 4ms/step\n",
      "Epoch 60/100\n",
      "18/18 - 0s - loss: 0.0052 - 72ms/epoch - 4ms/step\n",
      "Epoch 61/100\n",
      "18/18 - 0s - loss: 0.0048 - 68ms/epoch - 4ms/step\n",
      "Epoch 62/100\n",
      "18/18 - 0s - loss: 0.0044 - 69ms/epoch - 4ms/step\n",
      "Epoch 63/100\n",
      "18/18 - 0s - loss: 0.0040 - 73ms/epoch - 4ms/step\n",
      "Epoch 64/100\n",
      "18/18 - 0s - loss: 0.0037 - 69ms/epoch - 4ms/step\n",
      "Epoch 65/100\n",
      "18/18 - 0s - loss: 0.0035 - 83ms/epoch - 5ms/step\n",
      "Epoch 66/100\n",
      "18/18 - 0s - loss: 0.0032 - 101ms/epoch - 6ms/step\n",
      "Epoch 67/100\n",
      "18/18 - 0s - loss: 0.0030 - 85ms/epoch - 5ms/step\n",
      "Epoch 68/100\n",
      "18/18 - 0s - loss: 0.0028 - 66ms/epoch - 4ms/step\n",
      "Epoch 69/100\n",
      "18/18 - 0s - loss: 0.0026 - 83ms/epoch - 5ms/step\n",
      "Epoch 70/100\n",
      "18/18 - 0s - loss: 0.0024 - 95ms/epoch - 5ms/step\n",
      "Epoch 71/100\n",
      "18/18 - 0s - loss: 0.0023 - 98ms/epoch - 5ms/step\n",
      "Epoch 72/100\n",
      "18/18 - 0s - loss: 0.0022 - 96ms/epoch - 5ms/step\n",
      "Epoch 73/100\n",
      "18/18 - 0s - loss: 0.0020 - 97ms/epoch - 5ms/step\n",
      "Epoch 74/100\n",
      "18/18 - 0s - loss: 0.0020 - 95ms/epoch - 5ms/step\n",
      "Epoch 75/100\n",
      "18/18 - 0s - loss: 0.0018 - 106ms/epoch - 6ms/step\n",
      "Epoch 76/100\n",
      "18/18 - 0s - loss: 0.0018 - 104ms/epoch - 6ms/step\n",
      "Epoch 77/100\n",
      "18/18 - 0s - loss: 0.0017 - 68ms/epoch - 4ms/step\n",
      "Epoch 78/100\n",
      "18/18 - 0s - loss: 0.0017 - 69ms/epoch - 4ms/step\n",
      "Epoch 79/100\n",
      "18/18 - 0s - loss: 0.0016 - 87ms/epoch - 5ms/step\n",
      "Epoch 80/100\n",
      "18/18 - 0s - loss: 0.0016 - 80ms/epoch - 4ms/step\n",
      "Epoch 81/100\n",
      "18/18 - 0s - loss: 0.0015 - 74ms/epoch - 4ms/step\n",
      "Epoch 82/100\n",
      "18/18 - 0s - loss: 0.0015 - 68ms/epoch - 4ms/step\n",
      "Epoch 83/100\n",
      "18/18 - 0s - loss: 0.0015 - 71ms/epoch - 4ms/step\n",
      "Epoch 84/100\n",
      "18/18 - 0s - loss: 0.0014 - 71ms/epoch - 4ms/step\n",
      "Epoch 85/100\n",
      "18/18 - 0s - loss: 0.0014 - 69ms/epoch - 4ms/step\n",
      "Epoch 86/100\n",
      "18/18 - 0s - loss: 0.0014 - 69ms/epoch - 4ms/step\n",
      "Epoch 87/100\n",
      "18/18 - 0s - loss: 0.0014 - 72ms/epoch - 4ms/step\n",
      "Epoch 88/100\n",
      "18/18 - 0s - loss: 0.0014 - 71ms/epoch - 4ms/step\n",
      "Epoch 89/100\n",
      "18/18 - 0s - loss: 0.0014 - 70ms/epoch - 4ms/step\n",
      "Epoch 90/100\n",
      "18/18 - 0s - loss: 0.0014 - 70ms/epoch - 4ms/step\n",
      "Epoch 91/100\n",
      "18/18 - 0s - loss: 0.0014 - 76ms/epoch - 4ms/step\n",
      "Epoch 92/100\n",
      "18/18 - 0s - loss: 0.0014 - 82ms/epoch - 5ms/step\n",
      "Epoch 93/100\n",
      "18/18 - 0s - loss: 0.0014 - 85ms/epoch - 5ms/step\n",
      "Epoch 94/100\n",
      "18/18 - 0s - loss: 0.0014 - 85ms/epoch - 5ms/step\n",
      "Epoch 95/100\n",
      "18/18 - 0s - loss: 0.0014 - 66ms/epoch - 4ms/step\n",
      "Epoch 96/100\n",
      "18/18 - 0s - loss: 0.0014 - 69ms/epoch - 4ms/step\n",
      "Epoch 97/100\n",
      "18/18 - 0s - loss: 0.0014 - 68ms/epoch - 4ms/step\n",
      "Epoch 98/100\n",
      "18/18 - 0s - loss: 0.0014 - 95ms/epoch - 5ms/step\n",
      "Epoch 99/100\n",
      "18/18 - 0s - loss: 0.0013 - 97ms/epoch - 5ms/step\n",
      "Epoch 100/100\n",
      "18/18 - 0s - loss: 0.0014 - 96ms/epoch - 5ms/step\n"
     ]
    },
    {
     "data": {
      "text/plain": [
       "<keras.src.callbacks.History at 0x7f72c074f130>"
      ]
     },
     "execution_count": 12,
     "metadata": {},
     "output_type": "execute_result"
    }
   ],
   "source": [
    "# create and fit the LSTM network\n",
    "model = Sequential()\n",
    "model.add(LSTM(4, input_shape=(1, look_back)))\n",
    "model.add(Dense(1))\n",
    "model.compile(loss='mean_squared_error', optimizer='adam')\n",
    "model.fit(trainX, trainY, epochs=100, batch_size=1, verbose=2)"
   ]
  },
  {
   "cell_type": "code",
   "execution_count": 13,
   "metadata": {},
   "outputs": [
    {
     "name": "stdout",
     "output_type": "stream",
     "text": [
      "1/1 [==============================] - 1s 978ms/step\n",
      "1/1 [==============================] - 0s 44ms/step\n",
      "1/1 [==============================] - 0s 42ms/step\n",
      "Train Score: 19.48 RMSE\n",
      "Test Score: 16.90 RMSE\n",
      "Test Score: 89.60 RMSE\n"
     ]
    }
   ],
   "source": [
    "trainPredict = model.predict(trainX)\n",
    "testPredict = model.predict(testX)\n",
    "validatePredict = model.predict(validate_x)\n",
    "\n",
    "# invert predictions\n",
    "trainPredict = scaler.inverse_transform(trainPredict)\n",
    "trainY = scaler.inverse_transform([trainY])\n",
    "testPredict = scaler.inverse_transform(testPredict)\n",
    "testY = scaler.inverse_transform([testY])\n",
    "validatePredict = scaler.inverse_transform(validatePredict)\n",
    "validate_y = scaler.inverse_transform([validate_y])\n",
    "# validate_test_predict = scaler.inverse_transform(validate_test_predict)\n",
    "# validate_testY = scaler.inverse_transform([validate_test])\n",
    "\n",
    "# calculate root mean squared error\n",
    "trainScore = np.sqrt(mean_squared_error(trainY[0], trainPredict[:,0]))\n",
    "print('Train Score: %.2f RMSE' % (trainScore))\n",
    "testScore = np.sqrt(mean_squared_error(testY[0], testPredict[:,0]))\n",
    "print('Test Score: %.2f RMSE' % (testScore))\n",
    "validateScore = np.sqrt(mean_squared_error(validate_y[0], validatePredict[:,0]))\n",
    "print('Test Score: %.2f RMSE' % (validateScore))\n",
    "# validate_testScore = np.sqrt(mean_squared_error(validate_test_predict[0], validate_testY[:,0]))\n",
    "# print('Test Score: %.2f RMSE' % (validate_testScore))\n"
   ]
  },
  {
   "cell_type": "code",
   "execution_count": 14,
   "metadata": {},
   "outputs": [
    {
     "data": {
      "text/plain": [
       "array([[7310.5103],\n",
       "       [7410.002 ],\n",
       "       [7553.0664],\n",
       "       [7621.7007]], dtype=float32)"
      ]
     },
     "execution_count": 14,
     "metadata": {},
     "output_type": "execute_result"
    }
   ],
   "source": [
    "validatePredict"
   ]
  },
  {
   "cell_type": "code",
   "execution_count": 15,
   "metadata": {},
   "outputs": [
    {
     "data": {
      "text/plain": [
       "array([[7392.6001375 , 7527.60024323, 7594.79963167, 7720.70000025]])"
      ]
     },
     "execution_count": 15,
     "metadata": {},
     "output_type": "execute_result"
    }
   ],
   "source": [
    "validate_y"
   ]
  },
  {
   "cell_type": "code",
   "execution_count": 13,
   "metadata": {},
   "outputs": [],
   "source": [
    "training = pd.read_csv('training.csv', usecols=[1], engine='python')\n",
    "testing = pd.read_csv('testing.csv', usecols=[1], engine='python')"
   ]
  },
  {
   "cell_type": "code",
   "execution_count": 11,
   "metadata": {},
   "outputs": [
    {
     "data": {
      "text/plain": [
       "array([[0.08279569],\n",
       "       [0.        ],\n",
       "       [0.88064516],\n",
       "       [0.30967742],\n",
       "       [0.5258065 ],\n",
       "       [0.19032258],\n",
       "       [1.        ]], dtype=float32)"
      ]
     },
     "execution_count": 11,
     "metadata": {},
     "output_type": "execute_result"
    }
   ],
   "source": [
    "training = pd.read_csv('training.csv', usecols=[1], engine='python')\n",
    "testing = pd.read_csv('testing.csv', usecols=[1], engine='python')\n",
    "training = training.values\n",
    "training = training.astype('float32')\n",
    "# normalize the dataset\n",
    "scaler = MinMaxScaler(feature_range=(0, 1))\n",
    "training = scaler.fit_transform(training)\n",
    "look_back = 1\n",
    "training_x, training_y = create_dataset(training, look_back)\n",
    "\n",
    "training_x"
   ]
  },
  {
   "cell_type": "code",
   "execution_count": 12,
   "metadata": {},
   "outputs": [
    {
     "data": {
      "text/plain": [
       "array([0.        , 0.88064516, 0.30967742, 0.5258065 , 0.19032258,\n",
       "       1.        , 0.07096775], dtype=float32)"
      ]
     },
     "execution_count": 12,
     "metadata": {},
     "output_type": "execute_result"
    }
   ],
   "source": [
    "training_y"
   ]
  },
  {
   "cell_type": "code",
   "execution_count": 8,
   "metadata": {},
   "outputs": [
    {
     "data": {
      "text/plain": [
       "array([[0.08279569],\n",
       "       [0.        ],\n",
       "       [0.88064516],\n",
       "       [0.30967742],\n",
       "       [0.5258065 ],\n",
       "       [0.19032258],\n",
       "       [1.        ],\n",
       "       [0.07096775],\n",
       "       [0.22688171]], dtype=float32)"
      ]
     },
     "execution_count": 8,
     "metadata": {},
     "output_type": "execute_result"
    }
   ],
   "source": [
    "new_training = pd.read_csv('training.csv', usecols=[1], engine='python')\n",
    "new_testing = pd.read_csv('testing.csv', usecols=[1], engine='python')\n",
    "new_training = new_training.values\n",
    "new_training = new_training.astype('float32')\n",
    "scaler = MinMaxScaler(feature_range=(0, 1))\n",
    "new_training = scaler.fit_transform(new_training)\n",
    "my_training_x = []\n",
    "for i in range(len(new_training)):\n",
    "    a = new_training[i:(i+1), 0]\n",
    "    my_training_x.append(a)\n",
    "\n",
    "np.array(my_training_x)"
   ]
  },
  {
   "cell_type": "code",
   "execution_count": 6,
   "metadata": {},
   "outputs": [],
   "source": [
    "# convert an array of values into a dataset matrix\n",
    "def create_dataset(dataset, look_back=1):\n",
    "    dataX, dataY = [], []\n",
    "    for i in range(len(dataset)-look_back-1):\n",
    "        a = dataset[i:(i+look_back), 0]\n",
    "        dataX.append(a)\n",
    "        dataY.append(dataset[i + look_back, 0])\n",
    "    return np.array(dataX), np.array(dataY)"
   ]
  },
  {
   "cell_type": "code",
   "execution_count": null,
   "metadata": {},
   "outputs": [],
   "source": []
  }
 ],
 "metadata": {
  "kernelspec": {
   "display_name": "Python 3",
   "language": "python",
   "name": "python3"
  },
  "language_info": {
   "codemirror_mode": {
    "name": "ipython",
    "version": 3
   },
   "file_extension": ".py",
   "mimetype": "text/x-python",
   "name": "python",
   "nbconvert_exporter": "python",
   "pygments_lexer": "ipython3",
   "version": "3.8.10"
  }
 },
 "nbformat": 4,
 "nbformat_minor": 2
}
