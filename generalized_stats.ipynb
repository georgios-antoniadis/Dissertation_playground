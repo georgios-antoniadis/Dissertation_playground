{
 "cells": [
  {
   "cell_type": "code",
   "execution_count": 29,
   "metadata": {},
   "outputs": [],
   "source": [
    "import pandas as pd\n",
    "import numpy as np"
   ]
  },
  {
   "cell_type": "code",
   "execution_count": 30,
   "metadata": {},
   "outputs": [],
   "source": [
    "dataset_df = pd.read_csv(\"m4_general_results.csv\")"
   ]
  },
  {
   "cell_type": "code",
   "execution_count": 37,
   "metadata": {},
   "outputs": [],
   "source": [
    "scores_dict = {'Terms':'Category:[sMAPE, MAPE, ShapeSimilarity, Grubbs]'}"
   ]
  },
  {
   "cell_type": "code",
   "execution_count": 38,
   "metadata": {},
   "outputs": [],
   "source": [
    "#General results:\n",
    "overall_mape = round(dataset_df['MAPE'].mean(),2)\n",
    "overall_smape = round(dataset_df['sMAPE'].mean(),2)\n",
    "overall_shape_similarity = round(dataset_df['ShapeSimilarity'].mean(),2)\n",
    "overall_outliers = round(dataset_df['Grubbs'].mean(),2)\n",
    "\n",
    "scores_dict['Overall'] = [overall_mape,overall_smape,overall_shape_similarity,overall_outliers]"
   ]
  },
  {
   "cell_type": "code",
   "execution_count": 39,
   "metadata": {},
   "outputs": [
    {
     "data": {
      "text/plain": [
       "{'Terms': 'Category:[sMAPE, MAPE, ShapeSimilarity, Grubbs]',\n",
       " 'Overall': [37.92, 43.67, 13202.78, 0.0]}"
      ]
     },
     "execution_count": 39,
     "metadata": {},
     "output_type": "execute_result"
    }
   ],
   "source": [
    "scores_dict"
   ]
  },
  {
   "cell_type": "code",
   "execution_count": 43,
   "metadata": {},
   "outputs": [],
   "source": [
    "#General for each model\n",
    "for model in dataset_df['model'].unique():\n",
    "    df = dataset_df[dataset_df['model']==model]\n",
    "\n",
    "    mape=round(df['MAPE'].mean(),2)\n",
    "    smape = round(df['sMAPE'].mean(),2)\n",
    "    shape_similarity = round(df['ShapeSimilarity'].mean(),2)\n",
    "    outliers = round(df['Grubbs'].mean(),2)\n",
    "        \n",
    "    key_name = f\"{model}_overall\"\n",
    "\n",
    "    scores_dict[key_name] = [mape,smape,shape_similarity,outliers]"
   ]
  },
  {
   "cell_type": "code",
   "execution_count": 44,
   "metadata": {},
   "outputs": [],
   "source": [
    "for model in dataset_df['model'].unique():\n",
    "    df = dataset_df[dataset_df['model']==model]\n",
    "\n",
    "    for cat in df['Category'].unique():\n",
    "        model_cat_df = df[df['Category']==cat]\n",
    "\n",
    "        mape=round(model_cat_df['MAPE'].mean(),2)\n",
    "        smape = round(model_cat_df['sMAPE'].mean(),2)\n",
    "        shape_similarity = round(model_cat_df['ShapeSimilarity'].mean(),2)\n",
    "        outliers = round(model_cat_df['Grubbs'].mean(),2)\n",
    "        \n",
    "        key_name = f\"{model}_{cat}\"\n",
    "\n",
    "        scores_dict[key_name] = [mape,smape,shape_similarity,outliers]"
   ]
  },
  {
   "cell_type": "code",
   "execution_count": 45,
   "metadata": {},
   "outputs": [
    {
     "data": {
      "text/plain": [
       "{'Terms': 'Category:[sMAPE, MAPE, ShapeSimilarity, Grubbs]',\n",
       " 'Overall': [37.92, 43.67, 13202.78, 0.0],\n",
       " 'Last Value_overall': [17.51, 16.34, 6041.5, 0.0],\n",
       " 'Mean Value_overall': [48.36, 56.09, 17730.61, 0.0],\n",
       " 'Random Walk_overall': [21.19, 19.86, 6651.14, 0.0],\n",
       " 'Arima_overall': [17.41, 15.24, 5236.65, 0.0],\n",
       " 'Theta_overall': [75.4, 99.91, 26278.36, 0.0],\n",
       " 'Prophet_overall': [47.63, 54.57, 17278.4, 0.0],\n",
       " 'Last Value_Macro': [17.22, 16.62, 5983.41, 0.0],\n",
       " 'Last Value_Micro': [15.32, 13.99, 5398.13, 0.0],\n",
       " 'Last Value_Demographic': [11.37, 11.65, 3446.93, 0.0],\n",
       " 'Last Value_Industry': [19.42, 19.01, 6479.65, 0.0],\n",
       " 'Last Value_Finance': [20.0, 17.86, 6952.89, 0.0],\n",
       " 'Last Value_Other': [16.48, 16.02, 5787.84, 0.0],\n",
       " 'Mean Value_Macro': [46.9, 53.96, 17107.12, 0.0],\n",
       " 'Mean Value_Micro': [49.84, 64.06, 19181.62, 0.0],\n",
       " 'Mean Value_Demographic': [37.94, 38.25, 10138.24, 0.0],\n",
       " 'Mean Value_Industry': [52.52, 49.73, 15860.48, 0.0],\n",
       " 'Mean Value_Finance': [48.63, 58.23, 19560.79, 0.0],\n",
       " 'Mean Value_Other': [40.3, 44.32, 14676.94, 0.0],\n",
       " 'Random Walk_Macro': [20.43, 20.14, 6536.43, 0.0],\n",
       " 'Random Walk_Micro': [18.3, 17.16, 5958.12, 0.0],\n",
       " 'Random Walk_Demographic': [15.27, 15.69, 4140.38, 0.0],\n",
       " 'Random Walk_Industry': [25.74, 23.42, 7115.04, 0.0],\n",
       " 'Random Walk_Finance': [23.04, 21.14, 7633.47, 0.0],\n",
       " 'Random Walk_Other': [20.68, 19.48, 6313.56, 0.0],\n",
       " 'Arima_Macro': [17.34, 15.75, 5296.68, 0.0],\n",
       " 'Arima_Micro': [15.11, 12.64, 4349.26, 0.0],\n",
       " 'Arima_Demographic': [10.73, 10.78, 3055.15, 0.0],\n",
       " 'Arima_Industry': [20.4, 18.82, 6115.35, 0.0],\n",
       " 'Arima_Finance': [19.38, 16.24, 5980.47, 0.0],\n",
       " 'Arima_Other': [16.38, 15.28, 5096.44, 0.0],\n",
       " 'Theta_Macro': [70.86, 94.74, 25212.33, 0.0],\n",
       " 'Theta_Micro': [78.65, 118.69, 28235.62, 0.0],\n",
       " 'Theta_Demographic': [73.28, 72.84, 18940.57, 0.0],\n",
       " 'Theta_Industry': [85.93, 87.38, 24410.38, 0.0],\n",
       " 'Theta_Finance': [72.23, 100.61, 28259.16, 0.0],\n",
       " 'Theta_Other': [59.54, 74.64, 20919.35, 0.0],\n",
       " 'Prophet_Macro': [45.58, 53.03, 15871.09, 0.0],\n",
       " 'Prophet_Micro': [49.03, 61.99, 19190.6, 0.0],\n",
       " 'Prophet_Demographic': [46.78, 57.01, 11460.87, 0.0],\n",
       " 'Prophet_Industry': [55.14, 52.1, 17929.05, 0.0],\n",
       " 'Prophet_Finance': [46.44, 52.48, 18036.57, 0.0],\n",
       " 'Prophet_Other': [31.07, 36.53, 10773.4, 0.0]}"
      ]
     },
     "execution_count": 45,
     "metadata": {},
     "output_type": "execute_result"
    }
   ],
   "source": [
    "scores_dict"
   ]
  },
  {
   "cell_type": "code",
   "execution_count": 47,
   "metadata": {},
   "outputs": [
    {
     "data": {
      "text/plain": [
       "18.3"
      ]
     },
     "execution_count": 47,
     "metadata": {},
     "output_type": "execute_result"
    }
   ],
   "source": [
    "scores_dict['Random Walk_Micro'][0]"
   ]
  },
  {
   "cell_type": "code",
   "execution_count": 48,
   "metadata": {},
   "outputs": [],
   "source": [
    "m4_general_scores_file = open(\"m4_general_scores_file.csv\" ,\"w\")\n",
    "m4_general_scores_file.write(f\"Category,sMAPE,MAPE,Shape_Similarity,Grubbs\\n\")\n",
    "for key in scores_dict:\n",
    "    m4_general_scores_file.write(f\"{key},{scores_dict[key][0]},{scores_dict[key][1]},{scores_dict[key][2]},{scores_dict[key][3]}\\n\")\n",
    "\n",
    "m4_general_scores_file.close()"
   ]
  },
  {
   "cell_type": "code",
   "execution_count": 9,
   "metadata": {},
   "outputs": [],
   "source": [
    "for cat in ['Macro', 'Micro', 'Demographic', 'Industry', 'Finance', 'Other']:\n",
    "    df = dataset_df[dataset_df['Category']==cat]\n",
    "\n",
    "    mape=df['MAPE'].mean()\n",
    "    smape = df['sMAPE'].mean()\n",
    "    shape_similarity = df['ShapeSimilarity'].mean()\n",
    "    outliers = df['Grubbs'].mean()\n",
    "\n",
    "    scores_dict[cat] = [mape,smape,shape_similarity,outliers]"
   ]
  },
  {
   "cell_type": "code",
   "execution_count": 10,
   "metadata": {},
   "outputs": [
    {
     "data": {
      "text/plain": [
       "{'Overall': [37.91678528985507, 43.66882891304348, 13202.775566666667, 0.0],\n",
       " 'Macro': [36.38792168417457, 42.37264668203945, 12667.845337774363, 0.0],\n",
       " 'Micro': [37.70777939227083, 48.08499566636076, 13718.889913327215, 0.0],\n",
       " 'Demographic': [32.56171415441177, 34.37056985294118, 8530.354666053923, 0.0],\n",
       " 'Industry': [43.19205283458916, 41.74088939720129, 12984.992972730533, 0.0],\n",
       " 'Finance': [38.28899064273662, 44.42813826251469, 14403.890737076237, 0.0],\n",
       " 'Other': [30.740937162891047, 34.378288834951455, 10594.588954962244, 0.0]}"
      ]
     },
     "execution_count": 10,
     "metadata": {},
     "output_type": "execute_result"
    }
   ],
   "source": [
    "scores_dict\n"
   ]
  },
  {
   "cell_type": "code",
   "execution_count": 11,
   "metadata": {},
   "outputs": [
    {
     "data": {
      "text/html": [
       "<div>\n",
       "<style scoped>\n",
       "    .dataframe tbody tr th:only-of-type {\n",
       "        vertical-align: middle;\n",
       "    }\n",
       "\n",
       "    .dataframe tbody tr th {\n",
       "        vertical-align: top;\n",
       "    }\n",
       "\n",
       "    .dataframe thead th {\n",
       "        text-align: right;\n",
       "    }\n",
       "</style>\n",
       "<table border=\"1\" class=\"dataframe\">\n",
       "  <thead>\n",
       "    <tr style=\"text-align: right;\">\n",
       "      <th></th>\n",
       "      <th>model</th>\n",
       "      <th>timeseries</th>\n",
       "      <th>sMAPE</th>\n",
       "      <th>MAPE</th>\n",
       "      <th>ShapeSimilarity</th>\n",
       "      <th>Grubbs</th>\n",
       "      <th>Category</th>\n",
       "    </tr>\n",
       "  </thead>\n",
       "  <tbody>\n",
       "    <tr>\n",
       "      <th>0</th>\n",
       "      <td>Last Value</td>\n",
       "      <td>Y1</td>\n",
       "      <td>3.98</td>\n",
       "      <td>3.87</td>\n",
       "      <td>1782.50</td>\n",
       "      <td>0</td>\n",
       "      <td>Macro</td>\n",
       "    </tr>\n",
       "    <tr>\n",
       "      <th>1</th>\n",
       "      <td>Mean Value</td>\n",
       "      <td>Y1</td>\n",
       "      <td>14.66</td>\n",
       "      <td>13.64</td>\n",
       "      <td>6206.67</td>\n",
       "      <td>0</td>\n",
       "      <td>Macro</td>\n",
       "    </tr>\n",
       "    <tr>\n",
       "      <th>2</th>\n",
       "      <td>Random Walk</td>\n",
       "      <td>Y1</td>\n",
       "      <td>3.21</td>\n",
       "      <td>3.30</td>\n",
       "      <td>1389.02</td>\n",
       "      <td>0</td>\n",
       "      <td>Macro</td>\n",
       "    </tr>\n",
       "    <tr>\n",
       "      <th>3</th>\n",
       "      <td>Arima</td>\n",
       "      <td>Y1</td>\n",
       "      <td>9.64</td>\n",
       "      <td>9.12</td>\n",
       "      <td>4178.79</td>\n",
       "      <td>0</td>\n",
       "      <td>Macro</td>\n",
       "    </tr>\n",
       "    <tr>\n",
       "      <th>4</th>\n",
       "      <td>Theta</td>\n",
       "      <td>Y1</td>\n",
       "      <td>40.00</td>\n",
       "      <td>33.30</td>\n",
       "      <td>15127.10</td>\n",
       "      <td>0</td>\n",
       "      <td>Macro</td>\n",
       "    </tr>\n",
       "  </tbody>\n",
       "</table>\n",
       "</div>"
      ],
      "text/plain": [
       "         model timeseries  sMAPE   MAPE  ShapeSimilarity  Grubbs Category\n",
       "0   Last Value         Y1   3.98   3.87          1782.50       0    Macro\n",
       "1   Mean Value         Y1  14.66  13.64          6206.67       0    Macro\n",
       "2  Random Walk         Y1   3.21   3.30          1389.02       0    Macro\n",
       "3        Arima         Y1   9.64   9.12          4178.79       0    Macro\n",
       "4        Theta         Y1  40.00  33.30         15127.10       0    Macro"
      ]
     },
     "execution_count": 11,
     "metadata": {},
     "output_type": "execute_result"
    }
   ],
   "source": [
    "dataset_df.head()"
   ]
  },
  {
   "cell_type": "code",
   "execution_count": 14,
   "metadata": {},
   "outputs": [],
   "source": [
    "for model in dataset_df['model'].unique():\n",
    "    df = dataset_df[dataset_df['model']==model]\n",
    "\n",
    "    mape=df['MAPE'].mean()\n",
    "    smape = df['sMAPE'].mean()\n",
    "    shape_similarity = df['ShapeSimilarity'].mean()\n",
    "    outliers = df['Grubbs'].mean()\n",
    "\n",
    "    scores_dict[model] = [mape,smape,shape_similarity,outliers]"
   ]
  },
  {
   "cell_type": "code",
   "execution_count": 27,
   "metadata": {},
   "outputs": [],
   "source": []
  },
  {
   "cell_type": "code",
   "execution_count": 28,
   "metadata": {},
   "outputs": [
    {
     "data": {
      "text/plain": [
       "{'Overall': [37.92, 43.67, 13202.78, 0.0],\n",
       " 'Last Value_Macro': [17.51, 16.34, 6041.5, 0.0],\n",
       " 'Last Value_Micro': [17.51, 16.34, 6041.5, 0.0],\n",
       " 'Last Value_Demographic': [17.51, 16.34, 6041.5, 0.0],\n",
       " 'Last Value_Industry': [17.51, 16.34, 6041.5, 0.0],\n",
       " 'Last Value_Finance': [17.51, 16.34, 6041.5, 0.0],\n",
       " 'Last Value_Other': [17.51, 16.34, 6041.5, 0.0],\n",
       " 'Mean Value_Macro': [48.36, 56.09, 17730.61, 0.0],\n",
       " 'Mean Value_Micro': [48.36, 56.09, 17730.61, 0.0],\n",
       " 'Mean Value_Demographic': [48.36, 56.09, 17730.61, 0.0],\n",
       " 'Mean Value_Industry': [48.36, 56.09, 17730.61, 0.0],\n",
       " 'Mean Value_Finance': [48.36, 56.09, 17730.61, 0.0],\n",
       " 'Mean Value_Other': [48.36, 56.09, 17730.61, 0.0],\n",
       " 'Random Walk_Macro': [21.19, 19.86, 6651.14, 0.0],\n",
       " 'Random Walk_Micro': [21.19, 19.86, 6651.14, 0.0],\n",
       " 'Random Walk_Demographic': [21.19, 19.86, 6651.14, 0.0],\n",
       " 'Random Walk_Industry': [21.19, 19.86, 6651.14, 0.0],\n",
       " 'Random Walk_Finance': [21.19, 19.86, 6651.14, 0.0],\n",
       " 'Random Walk_Other': [21.19, 19.86, 6651.14, 0.0],\n",
       " 'Arima_Macro': [17.41, 15.24, 5236.65, 0.0],\n",
       " 'Arima_Micro': [17.41, 15.24, 5236.65, 0.0],\n",
       " 'Arima_Demographic': [17.41, 15.24, 5236.65, 0.0],\n",
       " 'Arima_Industry': [17.41, 15.24, 5236.65, 0.0],\n",
       " 'Arima_Finance': [17.41, 15.24, 5236.65, 0.0],\n",
       " 'Arima_Other': [17.41, 15.24, 5236.65, 0.0],\n",
       " 'Theta_Macro': [75.4, 99.91, 26278.36, 0.0],\n",
       " 'Theta_Micro': [75.4, 99.91, 26278.36, 0.0],\n",
       " 'Theta_Demographic': [75.4, 99.91, 26278.36, 0.0],\n",
       " 'Theta_Industry': [75.4, 99.91, 26278.36, 0.0],\n",
       " 'Theta_Finance': [75.4, 99.91, 26278.36, 0.0],\n",
       " 'Theta_Other': [75.4, 99.91, 26278.36, 0.0],\n",
       " 'Prophet_Macro': [47.63, 54.57, 17278.4, 0.0],\n",
       " 'Prophet_Micro': [47.63, 54.57, 17278.4, 0.0],\n",
       " 'Prophet_Demographic': [47.63, 54.57, 17278.4, 0.0],\n",
       " 'Prophet_Industry': [47.63, 54.57, 17278.4, 0.0],\n",
       " 'Prophet_Finance': [47.63, 54.57, 17278.4, 0.0],\n",
       " 'Prophet_Other': [47.63, 54.57, 17278.4, 0.0]}"
      ]
     },
     "execution_count": 28,
     "metadata": {},
     "output_type": "execute_result"
    }
   ],
   "source": [
    "scores_dict"
   ]
  },
  {
   "cell_type": "code",
   "execution_count": null,
   "metadata": {},
   "outputs": [],
   "source": []
  }
 ],
 "metadata": {
  "kernelspec": {
   "display_name": "Python 3",
   "language": "python",
   "name": "python3"
  },
  "language_info": {
   "codemirror_mode": {
    "name": "ipython",
    "version": 3
   },
   "file_extension": ".py",
   "mimetype": "text/x-python",
   "name": "python",
   "nbconvert_exporter": "python",
   "pygments_lexer": "ipython3",
   "version": "3.8.10"
  }
 },
 "nbformat": 4,
 "nbformat_minor": 2
}
