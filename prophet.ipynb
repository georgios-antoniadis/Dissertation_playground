{
 "cells": [
  {
   "cell_type": "code",
   "execution_count": 1,
   "metadata": {},
   "outputs": [],
   "source": [
    "import pandas as pd\n",
    "import matplotlib.pyplot as plt\n",
    "from prophet import Prophet\n",
    "import numpy as np\n",
    "from handle_dataset.transform import create_df_with_datetimes"
   ]
  },
  {
   "cell_type": "code",
   "execution_count": 2,
   "metadata": {},
   "outputs": [],
   "source": [
    "train_df = pd.read_csv('Dataset/Yearly-train.csv')\n",
    "test_df = pd.read_csv('Dataset/Yearly-test.csv')"
   ]
  },
  {
   "cell_type": "code",
   "execution_count": 3,
   "metadata": {},
   "outputs": [
    {
     "name": "stderr",
     "output_type": "stream",
     "text": [
      "/home/george/.local/lib/python3.8/site-packages/prophet/forecaster.py:1124: UserWarning: Could not infer format, so each element will be parsed individually, falling back to `dateutil`. To ensure parsing is consistent and as-expected, please specify a format.\n",
      "  self.history_dates = pd.to_datetime(pd.Series(df['ds'].unique(), name='ds')).sort_values()\n",
      "/home/george/.local/lib/python3.8/site-packages/prophet/forecaster.py:271: UserWarning: Could not infer format, so each element will be parsed individually, falling back to `dateutil`. To ensure parsing is consistent and as-expected, please specify a format.\n",
      "  df['ds'] = pd.to_datetime(df['ds'])\n",
      "20:44:41 - cmdstanpy - INFO - Chain [1] start processing\n",
      "20:44:41 - cmdstanpy - INFO - Chain [1] done processing\n"
     ]
    },
    {
     "data": {
      "text/plain": [
       "<prophet.forecaster.Prophet at 0x7ff7d993cc10>"
      ]
     },
     "execution_count": 3,
     "metadata": {},
     "output_type": "execute_result"
    }
   ],
   "source": [
    "\n",
    "counter = 0\n",
    "\n",
    "train = create_df_with_datetimes(train_df, counter)\n",
    "test = create_df_with_datetimes(test_df, counter)\n",
    "test.columns = ['ds','y']\n",
    "train.columns= ['ds','y']\n",
    "# Instantiate and fit the model\n",
    "model = Prophet(interval_width=0.95)\n",
    "model.fit(train)"
   ]
  },
  {
   "cell_type": "code",
   "execution_count": 4,
   "metadata": {},
   "outputs": [
    {
     "data": {
      "text/html": [
       "<div>\n",
       "<style scoped>\n",
       "    .dataframe tbody tr th:only-of-type {\n",
       "        vertical-align: middle;\n",
       "    }\n",
       "\n",
       "    .dataframe tbody tr th {\n",
       "        vertical-align: top;\n",
       "    }\n",
       "\n",
       "    .dataframe thead th {\n",
       "        text-align: right;\n",
       "    }\n",
       "</style>\n",
       "<table border=\"1\" class=\"dataframe\">\n",
       "  <thead>\n",
       "    <tr style=\"text-align: right;\">\n",
       "      <th></th>\n",
       "      <th>ds</th>\n",
       "    </tr>\n",
       "  </thead>\n",
       "  <tbody>\n",
       "    <tr>\n",
       "      <th>0</th>\n",
       "      <td>1980-01-01 18:00:00</td>\n",
       "    </tr>\n",
       "    <tr>\n",
       "      <th>1</th>\n",
       "      <td>1981-01-01 00:00:00</td>\n",
       "    </tr>\n",
       "    <tr>\n",
       "      <th>2</th>\n",
       "      <td>1982-01-01 06:00:00</td>\n",
       "    </tr>\n",
       "    <tr>\n",
       "      <th>3</th>\n",
       "      <td>1983-01-01 12:00:00</td>\n",
       "    </tr>\n",
       "    <tr>\n",
       "      <th>4</th>\n",
       "      <td>1984-01-01 18:00:00</td>\n",
       "    </tr>\n",
       "  </tbody>\n",
       "</table>\n",
       "</div>"
      ],
      "text/plain": [
       "                   ds\n",
       "0 1980-01-01 18:00:00\n",
       "1 1981-01-01 00:00:00\n",
       "2 1982-01-01 06:00:00\n",
       "3 1983-01-01 12:00:00\n",
       "4 1984-01-01 18:00:00"
      ]
     },
     "execution_count": 4,
     "metadata": {},
     "output_type": "execute_result"
    }
   ],
   "source": [
    "future_dates = model.make_future_dataframe(periods=6, freq='YS')\n",
    "future_dates.head()"
   ]
  },
  {
   "cell_type": "code",
   "execution_count": 5,
   "metadata": {},
   "outputs": [],
   "source": [
    "# Create a dataframe with future dates for prediction\n",
    "# future = model.make_future_dataframe(periods=30)  # Forecasting for an additional 30 days\n",
    "\n",
    "# Generate forecasts\n",
    "forecast = model.predict(future_dates)\n",
    "\n",
    "forecast_organized = forecast[['ds', 'yhat', 'yhat_lower', 'yhat_upper']]\n",
    "# print(forecast_organized)\n",
    "\n",
    "# fig1 = model.plot(forecast_organized)\n",
    "\n",
    "# Plot the forecast\n",
    "# fig = model.plot(forecast)\n",
    "# plt.title('Prophet Forecasting')\n",
    "# plt.show()"
   ]
  },
  {
   "cell_type": "code",
   "execution_count": 8,
   "metadata": {},
   "outputs": [
    {
     "data": {
      "text/html": [
       "<div>\n",
       "<style scoped>\n",
       "    .dataframe tbody tr th:only-of-type {\n",
       "        vertical-align: middle;\n",
       "    }\n",
       "\n",
       "    .dataframe tbody tr th {\n",
       "        vertical-align: top;\n",
       "    }\n",
       "\n",
       "    .dataframe thead th {\n",
       "        text-align: right;\n",
       "    }\n",
       "</style>\n",
       "<table border=\"1\" class=\"dataframe\">\n",
       "  <thead>\n",
       "    <tr style=\"text-align: right;\">\n",
       "      <th></th>\n",
       "      <th>ds</th>\n",
       "      <th>yhat</th>\n",
       "      <th>yhat_lower</th>\n",
       "      <th>yhat_upper</th>\n",
       "    </tr>\n",
       "  </thead>\n",
       "  <tbody>\n",
       "    <tr>\n",
       "      <th>0</th>\n",
       "      <td>1980-01-01 18:00:00</td>\n",
       "      <td>4955.595810</td>\n",
       "      <td>4736.539365</td>\n",
       "      <td>5182.301774</td>\n",
       "    </tr>\n",
       "    <tr>\n",
       "      <th>1</th>\n",
       "      <td>1981-01-01 00:00:00</td>\n",
       "      <td>5069.599119</td>\n",
       "      <td>4835.448712</td>\n",
       "      <td>5289.841190</td>\n",
       "    </tr>\n",
       "    <tr>\n",
       "      <th>2</th>\n",
       "      <td>1982-01-01 06:00:00</td>\n",
       "      <td>5183.602429</td>\n",
       "      <td>4962.067623</td>\n",
       "      <td>5434.183633</td>\n",
       "    </tr>\n",
       "    <tr>\n",
       "      <th>3</th>\n",
       "      <td>1983-01-01 12:00:00</td>\n",
       "      <td>5297.605739</td>\n",
       "      <td>5076.119889</td>\n",
       "      <td>5529.548098</td>\n",
       "    </tr>\n",
       "    <tr>\n",
       "      <th>4</th>\n",
       "      <td>1984-01-01 18:00:00</td>\n",
       "      <td>5411.626129</td>\n",
       "      <td>5185.836513</td>\n",
       "      <td>5629.597853</td>\n",
       "    </tr>\n",
       "  </tbody>\n",
       "</table>\n",
       "</div>"
      ],
      "text/plain": [
       "                   ds         yhat   yhat_lower   yhat_upper\n",
       "0 1980-01-01 18:00:00  4955.595810  4736.539365  5182.301774\n",
       "1 1981-01-01 00:00:00  5069.599119  4835.448712  5289.841190\n",
       "2 1982-01-01 06:00:00  5183.602429  4962.067623  5434.183633\n",
       "3 1983-01-01 12:00:00  5297.605739  5076.119889  5529.548098\n",
       "4 1984-01-01 18:00:00  5411.626129  5185.836513  5629.597853"
      ]
     },
     "execution_count": 8,
     "metadata": {},
     "output_type": "execute_result"
    }
   ],
   "source": [
    "forecast_organized.head()"
   ]
  },
  {
   "cell_type": "code",
   "execution_count": 13,
   "metadata": {},
   "outputs": [
    {
     "data": {
      "text/plain": [
       "37"
      ]
     },
     "execution_count": 13,
     "metadata": {},
     "output_type": "execute_result"
    }
   ],
   "source": [
    "forecast_organized['yhat'].size"
   ]
  },
  {
   "cell_type": "code",
   "execution_count": 15,
   "metadata": {},
   "outputs": [
    {
     "data": {
      "text/plain": [
       "31"
      ]
     },
     "execution_count": 15,
     "metadata": {},
     "output_type": "execute_result"
    }
   ],
   "source": [
    "train['y'].size"
   ]
  },
  {
   "cell_type": "code",
   "execution_count": 16,
   "metadata": {},
   "outputs": [
    {
     "data": {
      "text/plain": [
       "6"
      ]
     },
     "execution_count": 16,
     "metadata": {},
     "output_type": "execute_result"
    }
   ],
   "source": [
    "test['y'].size"
   ]
  },
  {
   "cell_type": "code",
   "execution_count": 19,
   "metadata": {},
   "outputs": [
    {
     "data": {
      "text/plain": [
       "31    7606.798283\n",
       "32    7635.551155\n",
       "33    7674.697970\n",
       "34    7710.318919\n",
       "35    7742.504784\n",
       "36    7771.257656\n",
       "Name: yhat, dtype: float64"
      ]
     },
     "execution_count": 19,
     "metadata": {},
     "output_type": "execute_result"
    }
   ],
   "source": [
    "forecast['yhat'][-6:]"
   ]
  },
  {
   "cell_type": "code",
   "execution_count": 20,
   "metadata": {},
   "outputs": [
    {
     "data": {
      "text/plain": [
       "1    7290.2\n",
       "2    7392.6\n",
       "3    7527.6\n",
       "4    7594.8\n",
       "5    7720.7\n",
       "6    7823.2\n",
       "Name: y, dtype: object"
      ]
     },
     "execution_count": 20,
     "metadata": {},
     "output_type": "execute_result"
    }
   ],
   "source": [
    "test['y']"
   ]
  },
  {
   "cell_type": "code",
   "execution_count": 22,
   "metadata": {},
   "outputs": [],
   "source": [
    "from evaluation_protocol.grubbs import grubbs_score\n",
    "from evaluation_protocol.mape import mape\n",
    "from evaluation_protocol.smape import smape\n",
    "from evaluation_protocol.shape_similarity import dtw"
   ]
  },
  {
   "cell_type": "code",
   "execution_count": 23,
   "metadata": {},
   "outputs": [
    {
     "name": "stdout",
     "output_type": "stream",
     "text": [
      "No outliers detected.\n",
      "No outliers detected.\n",
      "Grubbs score for <prophet.forecaster.Prophet object at 0x7ff7d993cc10> is : 0\n",
      "SMAPE score for prophet is : 1.9794528840151553\n",
      "MAPE score for prophet is : 2.0084528351210076\n",
      "Shape similarity score for prophet is : 780.8762437136947\n",
      "===================================================================================\n"
     ]
    }
   ],
   "source": [
    "alpha = 0.05\n",
    "predicted = forecast['yhat'][-6:]\n",
    "real = test['y']\n",
    "grubbs_test_score = grubbs_score(predicted, real, alpha)\n",
    "smape_score = smape(real.tolist(), predicted.tolist())\n",
    "shape_similarity_score = dtw(predicted, real)\n",
    "mape_score = mape(real.tolist(), predicted.tolist())\n",
    "\n",
    "model_name = 'prophet'\n",
    "\n",
    "print(f\"Grubbs score for {model} is : {grubbs_test_score}\")\n",
    "print(f\"SMAPE score for {model_name} is : {smape_score}\")\n",
    "print(f\"MAPE score for {model_name} is : {mape_score}\")\n",
    "print(f\"Shape similarity score for {model_name} is : {shape_similarity_score}\")\n",
    "print(\"===================================================================================\")"
   ]
  },
  {
   "cell_type": "code",
   "execution_count": null,
   "metadata": {},
   "outputs": [],
   "source": []
  }
 ],
 "metadata": {
  "kernelspec": {
   "display_name": "Python 3",
   "language": "python",
   "name": "python3"
  },
  "language_info": {
   "codemirror_mode": {
    "name": "ipython",
    "version": 3
   },
   "file_extension": ".py",
   "mimetype": "text/x-python",
   "name": "python",
   "nbconvert_exporter": "python",
   "pygments_lexer": "ipython3",
   "version": "3.8.10"
  },
  "orig_nbformat": 4
 },
 "nbformat": 4,
 "nbformat_minor": 2
}
